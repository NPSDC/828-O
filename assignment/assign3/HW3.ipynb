{
 "cells": [
  {
   "cell_type": "code",
   "execution_count": 1,
   "metadata": {},
   "outputs": [],
   "source": [
    "# Importing the necessary libraries.\n",
    "import pandas as pd\n",
    "import numpy as np\n",
    "import gzip\n",
    "import networkx as nx\n",
    "\n",
    "import matplotlib.pyplot as plt\n",
    "import seaborn as sns\n",
    "%matplotlib inline"
   ]
  },
  {
   "cell_type": "code",
   "execution_count": 2,
   "metadata": {},
   "outputs": [],
   "source": [
    "ti_network_file = '/home/hirak/Projects/CMSC828O/data/chilean_TI.txt'"
   ]
  },
  {
   "cell_type": "code",
   "execution_count": 4,
   "metadata": {},
   "outputs": [],
   "source": [
    "df = pd.read_csv(ti_network_file,sep = '\\t')"
   ]
  },
  {
   "cell_type": "code",
   "execution_count": 29,
   "metadata": {},
   "outputs": [],
   "source": [
    "metadata_nodes = df[df.columns[:2].values]\n",
    "metadata_nodes.columns = ['node_id', 'sp_name']"
   ]
  },
  {
   "cell_type": "code",
   "execution_count": 36,
   "metadata": {},
   "outputs": [],
   "source": [
    "adj_df = df.loc[:,df.columns.isin(df.columns[2:])]"
   ]
  },
  {
   "cell_type": "code",
   "execution_count": 43,
   "metadata": {},
   "outputs": [],
   "source": [
    "adj_mat = adj_df.values"
   ]
  },
  {
   "cell_type": "code",
   "execution_count": 45,
   "metadata": {},
   "outputs": [],
   "source": [
    "G = nx.from_numpy_matrix(adj_mat)"
   ]
  },
  {
   "cell_type": "code",
   "execution_count": 47,
   "metadata": {},
   "outputs": [
    {
     "name": "stdout",
     "output_type": "stream",
     "text": [
      "Name: \n",
      "Type: Graph\n",
      "Number of nodes: 106\n",
      "Number of edges: 1361\n",
      "Average degree:  25.6792\n"
     ]
    }
   ],
   "source": [
    "print(nx.info(G))"
   ]
  },
  {
   "cell_type": "code",
   "execution_count": 56,
   "metadata": {},
   "outputs": [
    {
     "data": {
      "text/plain": [
       "<matplotlib.axes._subplots.AxesSubplot at 0x7f7f53199e80>"
      ]
     },
     "execution_count": 56,
     "metadata": {},
     "output_type": "execute_result"
    },
    {
     "data": {
      "image/png": "[encoded data removed]",
      "text/plain": [
       "<Figure size 432x288 with 2 Axes>"
      ]
     },
     "metadata": {
      "needs_background": "light"
     },
     "output_type": "display_data"
    }
   ],
   "source": [
    "sns.heatmap(adj_mat)"
   ]
  },
  {
   "cell_type": "code",
   "execution_count": 77,
   "metadata": {},
   "outputs": [],
   "source": []
  },
  {
   "cell_type": "code",
   "execution_count": 220,
   "metadata": {},
   "outputs": [
    {
     "name": "stdout",
     "output_type": "stream",
     "text": [
      "4 106\n"
     ]
    }
   ],
   "source": [
    "num_classes, num_nodes = 4, G.number_of_nodes()\n",
    "print(num_classes, num_nodes)\n",
    "theta = np.zeros((num_classes,num_classes))\n",
    "alpha = np.zeros(num_classes)\n",
    "tau = np.zeros((num_nodes, num_classes))"
   ]
  },
  {
   "cell_type": "code",
   "execution_count": 214,
   "metadata": {},
   "outputs": [],
   "source": [
    "from sklearn.cluster import SpectralClustering"
   ]
  },
  {
   "cell_type": "code",
   "execution_count": 215,
   "metadata": {},
   "outputs": [],
   "source": [
    "sc = SpectralClustering(num_classes, affinity='precomputed', n_init=100)"
   ]
  },
  {
   "cell_type": "code",
   "execution_count": 216,
   "metadata": {},
   "outputs": [
    {
     "name": "stderr",
     "output_type": "stream",
     "text": [
      "/home/hirak/miniconda2/envs/r-updated/lib/python3.6/site-packages/sklearn/utils/validation.py:892: UserWarning: Array is not symmetric, and will be converted to symmetric by average with its transpose.\n",
      "  warnings.warn(\"Array is not symmetric, and will be converted \"\n"
     ]
    },
    {
     "data": {
      "text/plain": [
       "SpectralClustering(affinity='precomputed', assign_labels='kmeans', coef0=1,\n",
       "          degree=3, eigen_solver=None, eigen_tol=0.0, gamma=1.0,\n",
       "          kernel_params=None, n_clusters=4, n_init=100, n_jobs=None,\n",
       "          n_neighbors=10, random_state=None)"
      ]
     },
     "execution_count": 216,
     "metadata": {},
     "output_type": "execute_result"
    }
   ],
   "source": [
    "sc.fit(adj_mat)"
   ]
  },
  {
   "cell_type": "code",
   "execution_count": 221,
   "metadata": {},
   "outputs": [],
   "source": [
    "# calculate tau\n",
    "for i,j in enumerate(sc.labels_):\n",
    "    tau[i,j] = 1"
   ]
  },
  {
   "cell_type": "code",
   "execution_count": 225,
   "metadata": {},
   "outputs": [],
   "source": [
    "# calculate theta\n",
    "for (i,j) in G.edges:\n",
    "    q,r = sc.labels_[i], sc.labels_[j]\n",
    "    theta[q,r] += 1"
   ]
  },
  {
   "cell_type": "code",
   "execution_count": 239,
   "metadata": {},
   "outputs": [],
   "source": [
    "alpha = tau.sum(0)/ num_nodes"
   ]
  },
  {
   "cell_type": "code",
   "execution_count": 244,
   "metadata": {},
   "outputs": [
    {
     "name": "stdout",
     "output_type": "stream",
     "text": [
      "diff...-4278.70605714161 elapsed time...4.5385048389434814\n",
      "diff...3.404701520164963 elapsed time...4.318186521530151\n",
      "diff...-4402.380707804865 elapsed time...4.380695581436157\n",
      "diff...6602.303640922493 elapsed time...4.382697582244873\n",
      "diff...1.7714705849107304 elapsed time...4.381289482116699\n",
      "diff...0.7135666350736756 elapsed time...4.276834726333618\n",
      "diff...-2.4572600925225743 elapsed time...4.363891839981079\n",
      "diff...0.39290804828578985 elapsed time...4.3955512046813965\n",
      "diff...-57.838127809106936 elapsed time...4.315672874450684\n",
      "diff...58.286187923204125 elapsed time...4.311520099639893\n"
     ]
    }
   ],
   "source": [
    "# E step\n",
    "from tqdm import tqdm_notebook as tqdm\n",
    "import time\n",
    "eps = 1e-3\n",
    "L_old = 0\n",
    "L_vec = []\n",
    "for step in range(10):\n",
    "    start = time.time()\n",
    "    # print('step ',step)\n",
    "    tau_new_log = np.zeros((num_nodes, num_classes))\n",
    "    for i in range(num_nodes):\n",
    "        for q in range(num_classes):\n",
    "            tau_new_log[i,q] = 0\n",
    "            for j in range(num_nodes): \n",
    "                if(i != j):\n",
    "                    # create prob\n",
    "                    theta_q_tmp = theta[q,] + eps\n",
    "                    theta_q_tmp = theta_q_tmp  / theta_q_tmp.sum()\n",
    "                    theta_q_col = theta[:,q] + eps\n",
    "                    theta_q_col = theta_q_col / theta_q_col.sum()\n",
    "                    \n",
    "                    b_mat = (\n",
    "                        adj_mat[i,j] * np.log( theta_q_tmp ) +\n",
    "                        (1 - adj_mat[i,j]) * (np.log(1 - theta_q_tmp )) +\n",
    "                        adj_mat[j,i] * np.log( theta_q_col ) +\n",
    "                        (1 - adj_mat[i,j]) * (np.log( 1 - theta_q_col ))\n",
    "                    )\n",
    "                    #print(b_mat.shape, tau[j,].shape)\n",
    "\n",
    "                    tau_new_log[i,q] += np.dot(tau[j,],b_mat)\n",
    "            tau_new_log[i,q] += np.log(alpha[q])\n",
    "            \n",
    "    tau_new = np.exp(tau_new_log)\n",
    "    tau = tau_new.copy()\n",
    "    tau = tau / tau.sum(axis=1, keepdims=1)\n",
    "\n",
    "    # M step\n",
    "    # Calculate alpha\n",
    "    alpha = tau.sum(axis = 0) / num_nodes\n",
    "    alpha = alpha / alpha.sum()\n",
    "    # Calculate theta\n",
    "    for q in range(num_classes):\n",
    "        for r in range(num_classes):\n",
    "            num = 0\n",
    "            denom = 0\n",
    "            for i in range(num_nodes):\n",
    "                for j in range(num_nodes):\n",
    "                    if ( i != j):\n",
    "                        num += adj_mat[i,j] * tau[i,q] * tau[j,r]\n",
    "                        denom +=  tau[i,q] * tau[j,r]\n",
    "            theta[q,r] = num / denom\n",
    "        theta[q,] = theta[q,] / theta[q,].sum()\n",
    "\n",
    "    L = np.dot(tau.sum(axis = 0), np.log(alpha)) \n",
    "    for i in range(num_nodes):\n",
    "        for j in range(num_nodes):\n",
    "            if( i != j ):\n",
    "                for q in range(num_classes):\n",
    "                    # make theta prob distribution\n",
    "                    theta_q_tmp = theta[q,] + eps\n",
    "                    tmp_q = theta_q_tmp / theta_q_tmp.sum()\n",
    "                    for r in range(num_classes):\n",
    "                        L += (0.5) * (\n",
    "                            tau[i,q] * tau[j,r] *\n",
    "                            (adj_mat[i,j] * np.log(theta[q,r]) +\n",
    "                            (1 - adj_mat[i,j]) * np.log(1 - theta[q,r]))\n",
    "                        )\n",
    "\n",
    "    end = time.time()\n",
    "    L_vec += [L]\n",
    "    print('diff...{} elapsed time...{}'.format(L - L_old, end - start))\n",
    "    L_old = L"
   ]
  },
  {
   "cell_type": "code",
   "execution_count": 238,
   "metadata": {},
   "outputs": [
    {
     "data": {
      "text/plain": [
       "0.001"
      ]
     },
     "execution_count": 238,
     "metadata": {},
     "output_type": "execute_result"
    }
   ],
   "source": [
    "1e-3"
   ]
  },
  {
   "cell_type": "code",
   "execution_count": 234,
   "metadata": {},
   "outputs": [
    {
     "ename": "AttributeError",
     "evalue": "module 'numpy' has no attribute 'eps'",
     "output_type": "error",
     "traceback": [
      "\u001b[0;31m---------------------------------------------------------------------------\u001b[0m",
      "\u001b[0;31mAttributeError\u001b[0m                            Traceback (most recent call last)",
      "\u001b[0;32m<ipython-input-234-cbc476192e14>\u001b[0m in \u001b[0;36m<module>\u001b[0;34m\u001b[0m\n\u001b[0;32m----> 1\u001b[0;31m \u001b[0mnp\u001b[0m\u001b[0;34m.\u001b[0m\u001b[0meps\u001b[0m\u001b[0;34m\u001b[0m\u001b[0;34m\u001b[0m\u001b[0m\n\u001b[0m",
      "\u001b[0;31mAttributeError\u001b[0m: module 'numpy' has no attribute 'eps'"
     ]
    }
   ],
   "source": [
    "np.ep"
   ]
  },
  {
   "cell_type": "code",
   "execution_count": null,
   "metadata": {},
   "outputs": [],
   "source": []
  }
 ],
 "metadata": {
  "kernelspec": {
   "display_name": "Python 3",
   "language": "python",
   "name": "python3"
  },
  "language_info": {
   "codemirror_mode": {
    "name": "ipython",
    "version": 3
   },
   "file_extension": ".py",
   "mimetype": "text/x-python",
   "name": "python",
   "nbconvert_exporter": "python",
   "pygments_lexer": "ipython3",
   "version": "3.6.8"
  }
 },
 "nbformat": 4,
 "nbformat_minor": 2
}
