{
 "cells": [
  {
   "cell_type": "code",
   "execution_count": 163,
   "metadata": {},
   "outputs": [],
   "source": [
    "# Importing the necessary libraries.\n",
    "import pandas as pd\n",
    "import numpy as np\n",
    "import gzip\n",
    "import networkx as nx\n",
    "\n",
    "import matplotlib.pyplot as plt\n",
    "import seaborn as sns\n",
    "import community\n",
    "%matplotlib inline"
   ]
  },
  {
   "cell_type": "markdown",
   "metadata": {},
   "source": [
    "### Data loading part "
   ]
  },
  {
   "cell_type": "code",
   "execution_count": 4,
   "metadata": {},
   "outputs": [],
   "source": [
    "ti_network_file = '/home/hirak/Projects/CMSC828O/data/chilean_TI.txt'"
   ]
  },
  {
   "cell_type": "code",
   "execution_count": 5,
   "metadata": {},
   "outputs": [],
   "source": [
    "df = pd.read_csv(ti_network_file,sep = '\\t')"
   ]
  },
  {
   "cell_type": "code",
   "execution_count": 6,
   "metadata": {},
   "outputs": [],
   "source": [
    "metadata_nodes = df[df.columns[:2].values]\n",
    "metadata_nodes.columns = ['node_id', 'sp_name']"
   ]
  },
  {
   "cell_type": "code",
   "execution_count": 7,
   "metadata": {},
   "outputs": [],
   "source": [
    "adj_df = df.loc[:,df.columns.isin(df.columns[2:])]"
   ]
  },
  {
   "cell_type": "code",
   "execution_count": 9,
   "metadata": {},
   "outputs": [],
   "source": [
    "adj_mat = adj_df.values"
   ]
  },
  {
   "cell_type": "code",
   "execution_count": 10,
   "metadata": {},
   "outputs": [],
   "source": [
    "G = nx.from_numpy_matrix(adj_mat)"
   ]
  },
  {
   "cell_type": "code",
   "execution_count": 12,
   "metadata": {},
   "outputs": [
    {
     "data": {
      "text/plain": [
       "106"
      ]
     },
     "execution_count": 12,
     "metadata": {},
     "output_type": "execute_result"
    }
   ],
   "source": [
    "G.number_of_nodes()"
   ]
  },
  {
   "cell_type": "markdown",
   "metadata": {},
   "source": [
    "### Stochastic Block Model implementation"
   ]
  },
  {
   "cell_type": "code",
   "execution_count": 14,
   "metadata": {},
   "outputs": [],
   "source": [
    "def random_partition(num_classes, G):\n",
    "    labels = np.zeros(G.number_of_nodes())\n",
    "    for i in range(G.number_of_nodes()):\n",
    "        labels[i] = int(np.random.choice(num_classes))\n",
    "    return labels.astype(int)"
   ]
  },
  {
   "cell_type": "code",
   "execution_count": 71,
   "metadata": {},
   "outputs": [],
   "source": [
    "random_partitions = {}\n",
    "for Q in range(3, 21):\n",
    "    random_partitions[Q] = random_partition(Q, G)"
   ]
  },
  {
   "cell_type": "code",
   "execution_count": 15,
   "metadata": {},
   "outputs": [],
   "source": [
    "from sklearn.cluster import SpectralClustering"
   ]
  },
  {
   "cell_type": "code",
   "execution_count": 17,
   "metadata": {},
   "outputs": [],
   "source": [
    "#sc = SpectralClustering(10, affinity='precomputed')"
   ]
  },
  {
   "cell_type": "code",
   "execution_count": 18,
   "metadata": {},
   "outputs": [],
   "source": [
    "#sc.fit(adj_mat)"
   ]
  },
  {
   "cell_type": "code",
   "execution_count": 24,
   "metadata": {},
   "outputs": [],
   "source": [
    "num_nodes = G.number_of_nodes()"
   ]
  },
  {
   "cell_type": "markdown",
   "metadata": {},
   "source": [
    "#### VBEM Algorithm implementation\n",
    "\n",
    "The stopping crieria and boundary criteria is adopted from the implementation of the R package. "
   ]
  },
  {
   "cell_type": "code",
   "execution_count": 25,
   "metadata": {},
   "outputs": [],
   "source": [
    "eps = 1e-1\n",
    "crit = 1e-5\n",
    "\n",
    "def boundary(mat, low = eps, high = 1-eps):\n",
    "    mat[mat < low] = low\n",
    "    mat[mat > high] = high\n",
    "    return mat"
   ]
  },
  {
   "cell_type": "code",
   "execution_count": 413,
   "metadata": {},
   "outputs": [],
   "source": [
    "from numpy.linalg import multi_dot\n",
    "\n",
    "def entropy(mat):\n",
    "    return (-(mat)*np.log(mat)).sum()\n",
    "\n",
    "\n",
    "class SBM_model(object):\n",
    "    def __init__(self, adj_mat, num_classes, labels):\n",
    "        self.num_nodes, self.num_classes = adj_mat.shape[0], num_classes\n",
    "        \n",
    "        self.theta = np.zeros((self.num_classes,self.num_classes))\n",
    "        self.alpha = np.zeros(self.num_classes)\n",
    "        self.tau = np.zeros((self.num_nodes, self.num_classes))\n",
    "        \n",
    "        for i,j in enumerate(labels):\n",
    "            self.tau[i,j] = 0.8\n",
    "            for k in range(self.num_classes):\n",
    "                if j != k:\n",
    "                    self.tau[i,k] = 0.2 / (self.num_classes-1)\n",
    "\n",
    "        #make tau a prob-dist\n",
    "        #boundary\n",
    "        self.eps_tol = eps / self.tau.shape[0]\n",
    "        self.tau = boundary(self.tau, self.eps_tol, 1 - self.eps_tol)\n",
    "        #normalize\n",
    "        self.tau = self.tau/self.tau.sum(axis=1, keepdims=1)\n",
    "            \n",
    "        #make alpha a prob-dist\n",
    "        self.alpha = self.tau.sum(0)/ num_nodes\n",
    "        #boundary\n",
    "        self.alpha = boundary(self.alpha)\n",
    "        #normalize\n",
    "        self.alpha = self.alpha / self.alpha.sum()\n",
    "        \n",
    "        #calc auxiliary metrices\n",
    "        self.adj = adj_mat.copy()\n",
    "        self.adj_transpose = self.adj.T\n",
    "        \n",
    "        self.adj_zero_diagonal = self.adj.copy()\n",
    "        np.fill_diagonal(self.adj_zero_diagonal, 0)\n",
    "        self.adj_zero_diagonal_transpose = self.adj_zero_diagonal.T\n",
    "        \n",
    "        self.one_minus_adj_zero_diagonal = 1 - self.adj \n",
    "        np.fill_diagonal(self.one_minus_adj_zero_diagonal, 0)\n",
    "        self.one_minus_adj_zero_diagonal_transpose = self.one_minus_adj_zero_diagonal.T\n",
    "        \n",
    "        self.adj_unit = np.full((self.num_nodes, self.num_nodes), 1.)\n",
    "        np.fill_diagonal(self.adj_unit, 0)\n",
    "        \n",
    "        #calc theta\n",
    "        self.theta = (\n",
    "            multi_dot([self.tau.T, self.adj_zero_diagonal, self.tau]) /\n",
    "            multi_dot([self.tau.T, self.adj_unit, self.tau])\n",
    "        )\n",
    "        \n",
    "    def estep(self):\n",
    "        ite = 0\n",
    "        Z = self.tau.copy()\n",
    "        while(True):\n",
    "            logZ = np.tile(np.log(self.alpha), (self.num_nodes, 1))\n",
    "            logZ += (\n",
    "                multi_dot([self.adj_zero_diagonal, self.tau, np.log(self.theta).T]) +\n",
    "                multi_dot([self.one_minus_adj_zero_diagonal, self.tau, np.log(1 - self.theta).T]) +\n",
    "                multi_dot([self.adj_zero_diagonal_transpose, self.tau, np.log(self.theta)]) +\n",
    "                multi_dot([self.one_minus_adj_zero_diagonal_transpose, self.tau, np.log(1 - self.theta)])\n",
    "            )\n",
    "\n",
    "            #follow the real SBM implementation\n",
    "            logZ = logZ - np.tile(self.tau.max(1), (self.num_classes,1)).T\n",
    "            logZ = np.exp(logZ)\n",
    "\n",
    "            #normalize\n",
    "            logZ = logZ / logZ.sum(axis=1, keepdims=1)\n",
    "\n",
    "            #boundary\n",
    "            logZ = boundary(logZ, self.eps_tol, 1-self.eps_tol)\n",
    "\n",
    "            #normalize\n",
    "            logZ = logZ / logZ.sum(axis=1, keepdims=1)\n",
    "            step_size = np.max(abs(Z - logZ))\n",
    "            #print(step_size)\n",
    "            \n",
    "            ite += 1\n",
    "            if(step_size <= 1e-2 or ite > 20):\n",
    "                break\n",
    "        \n",
    "            Z = logZ.copy()\n",
    "            \n",
    "        self.tau = Z.copy()\n",
    "        \n",
    "    def mstep(self):\n",
    "    \n",
    "        self.alpha = self.tau.sum(0)/ num_nodes\n",
    "        self.theta = (\n",
    "            multi_dot([self.tau.T, self.adj_zero_diagonal, self.tau]) /\n",
    "            multi_dot([self.tau.T, self.adj_unit, self.tau])\n",
    "        )\n",
    "        \n",
    "    def likelihood(self):\n",
    "        prior = (self.tau * np.log(self.alpha).T).sum()\n",
    "        post = (\n",
    "            (multi_dot([self.tau.T, self.adj_zero_diagonal, self.tau]) *\n",
    "            (np.log(self.theta) - np.log(1 - self.theta))).sum() +\n",
    "            (multi_dot([self.tau.T, self.adj_unit, self.tau]) *\n",
    "             np.log(1 - self.theta)).sum()\n",
    "            )\n",
    "        return prior + post\n",
    "    \n",
    "    def entropy(self):\n",
    "        return (-(self.tau)*np.log(self.tau)).sum()"
   ]
  },
  {
   "cell_type": "code",
   "execution_count": 414,
   "metadata": {},
   "outputs": [],
   "source": [
    "def get_model(num_classes, sc=False):\n",
    "    if not sc:\n",
    "        random_labels = random_partitions[num_classes]\n",
    "    else:\n",
    "        scc = SpectralClustering(num_classes, affinity='precomputed', n_init=100)\n",
    "        scc.fit(adj_mat)\n",
    "        random_labels = scc.labels_\n",
    "    sbm = SBM_model(adj_mat, num_classes, random_labels)\n",
    "\n",
    "    J = sbm.entropy() + sbm.likelihood()\n",
    "    old_J = 0\n",
    "    while(True):\n",
    "        # run e step\n",
    "        sbm.estep()\n",
    "\n",
    "        # store entropy\n",
    "        E = sbm.entropy()\n",
    "\n",
    "        #run m step\n",
    "        num_iter = 10\n",
    "        sbm.mstep()\n",
    "        old_J = J\n",
    "\n",
    "        J = E + sbm.likelihood()\n",
    "\n",
    "        \n",
    "        #print(sbm.tau[0])\n",
    "        if(J - old_J <= 1e-6):\n",
    "            break\n",
    "    print('E:{}, J:{}, J\\':{}'.format(E,J,old_J))\n",
    "    return (sbm)"
   ]
  },
  {
   "cell_type": "code",
   "execution_count": 415,
   "metadata": {
    "scrolled": true
   },
   "outputs": [
    {
     "name": "stdout",
     "output_type": "stream",
     "text": [
      "E:3.814558477346737, J:-2518.8217481060337, J':-2518.8217481060337\n"
     ]
    },
    {
     "name": "stderr",
     "output_type": "stream",
     "text": [
      "/home/hirak/miniconda2/envs/r-updated/lib/python3.6/site-packages/sklearn/utils/validation.py:892: UserWarning: Array is not symmetric, and will be converted to symmetric by average with its transpose.\n",
      "  warnings.warn(\"Array is not symmetric, and will be converted \"\n"
     ]
    },
    {
     "name": "stdout",
     "output_type": "stream",
     "text": [
      "E:3.810885462884535, J:-2518.8216462418554, J':-2518.8216462418554\n",
      "E:3.7531914591946083, J:-1955.0276549965608, J':-1955.0276549965608\n"
     ]
    },
    {
     "name": "stderr",
     "output_type": "stream",
     "text": [
      "/home/hirak/miniconda2/envs/r-updated/lib/python3.6/site-packages/sklearn/utils/validation.py:892: UserWarning: Array is not symmetric, and will be converted to symmetric by average with its transpose.\n",
      "  warnings.warn(\"Array is not symmetric, and will be converted \"\n"
     ]
    },
    {
     "name": "stdout",
     "output_type": "stream",
     "text": [
      "E:2.884870205207665, J:-1943.611968275213, J':-1943.611968275213\n",
      "E:3.6015362633034007, J:-1958.6261454760752, J':-1958.6261454760752\n"
     ]
    },
    {
     "name": "stderr",
     "output_type": "stream",
     "text": [
      "/home/hirak/miniconda2/envs/r-updated/lib/python3.6/site-packages/sklearn/utils/validation.py:892: UserWarning: Array is not symmetric, and will be converted to symmetric by average with its transpose.\n",
      "  warnings.warn(\"Array is not symmetric, and will be converted \"\n"
     ]
    },
    {
     "name": "stdout",
     "output_type": "stream",
     "text": [
      "E:4.12271434007815, J:-1788.1753465580052, J':-1788.1753465580052\n",
      "E:5.064424020597298, J:-1728.0419611106863, J':-1728.0419611106863\n"
     ]
    },
    {
     "name": "stderr",
     "output_type": "stream",
     "text": [
      "/home/hirak/miniconda2/envs/r-updated/lib/python3.6/site-packages/sklearn/utils/validation.py:892: UserWarning: Array is not symmetric, and will be converted to symmetric by average with its transpose.\n",
      "  warnings.warn(\"Array is not symmetric, and will be converted \"\n"
     ]
    },
    {
     "name": "stdout",
     "output_type": "stream",
     "text": [
      "E:5.204862840627093, J:-1678.4821938487803, J':-1678.4821938487803\n",
      "E:5.381570030444953, J:-1569.5674924947846, J':-1569.5674924947846\n"
     ]
    },
    {
     "name": "stderr",
     "output_type": "stream",
     "text": [
      "/home/hirak/miniconda2/envs/r-updated/lib/python3.6/site-packages/sklearn/utils/validation.py:892: UserWarning: Array is not symmetric, and will be converted to symmetric by average with its transpose.\n",
      "  warnings.warn(\"Array is not symmetric, and will be converted \"\n"
     ]
    },
    {
     "name": "stdout",
     "output_type": "stream",
     "text": [
      "E:5.518056876176793, J:-1571.1036102491387, J':-1571.1036102491387\n",
      "E:6.0533562916597, J:-1520.5806792914134, J':-1520.5806792914134\n"
     ]
    },
    {
     "name": "stderr",
     "output_type": "stream",
     "text": [
      "/home/hirak/miniconda2/envs/r-updated/lib/python3.6/site-packages/sklearn/utils/validation.py:892: UserWarning: Array is not symmetric, and will be converted to symmetric by average with its transpose.\n",
      "  warnings.warn(\"Array is not symmetric, and will be converted \"\n"
     ]
    },
    {
     "name": "stdout",
     "output_type": "stream",
     "text": [
      "E:6.337759147812165, J:-1630.6315720372668, J':-1630.6315720372668\n",
      "E:6.572772261549929, J:-1467.8621973354172, J':-1467.8621973354172\n"
     ]
    },
    {
     "name": "stderr",
     "output_type": "stream",
     "text": [
      "/home/hirak/miniconda2/envs/r-updated/lib/python3.6/site-packages/sklearn/utils/validation.py:892: UserWarning: Array is not symmetric, and will be converted to symmetric by average with its transpose.\n",
      "  warnings.warn(\"Array is not symmetric, and will be converted \"\n"
     ]
    },
    {
     "name": "stdout",
     "output_type": "stream",
     "text": [
      "E:11.725286598470246, J:-1625.984498348463, J':-1625.984498348463\n",
      "E:7.181398567132591, J:-1452.0022341254878, J':-1452.0022341254878\n"
     ]
    },
    {
     "name": "stderr",
     "output_type": "stream",
     "text": [
      "/home/hirak/miniconda2/envs/r-updated/lib/python3.6/site-packages/sklearn/utils/validation.py:892: UserWarning: Array is not symmetric, and will be converted to symmetric by average with its transpose.\n",
      "  warnings.warn(\"Array is not symmetric, and will be converted \"\n"
     ]
    },
    {
     "name": "stdout",
     "output_type": "stream",
     "text": [
      "E:7.3165190668433935, J:-1364.1246534914635, J':-1364.1246534914635\n",
      "E:8.015328182130034, J:-1419.839992216044, J':-1419.839992216044\n"
     ]
    },
    {
     "name": "stderr",
     "output_type": "stream",
     "text": [
      "/home/hirak/miniconda2/envs/r-updated/lib/python3.6/site-packages/sklearn/utils/validation.py:892: UserWarning: Array is not symmetric, and will be converted to symmetric by average with its transpose.\n",
      "  warnings.warn(\"Array is not symmetric, and will be converted \"\n"
     ]
    },
    {
     "name": "stdout",
     "output_type": "stream",
     "text": [
      "E:8.197342866497797, J:-1531.8339809074566, J':-1531.8339809074566\n",
      "E:9.075975365589407, J:-1471.5431019214584, J':-1471.5431019214584\n"
     ]
    },
    {
     "name": "stderr",
     "output_type": "stream",
     "text": [
      "/home/hirak/miniconda2/envs/r-updated/lib/python3.6/site-packages/sklearn/utils/validation.py:892: UserWarning: Array is not symmetric, and will be converted to symmetric by average with its transpose.\n",
      "  warnings.warn(\"Array is not symmetric, and will be converted \"\n"
     ]
    },
    {
     "name": "stdout",
     "output_type": "stream",
     "text": [
      "E:8.873119138717605, J:-1471.0544677986807, J':-1471.0544677986807\n",
      "E:10.32628871216508, J:-1378.190647969032, J':-1378.190647969032\n"
     ]
    },
    {
     "name": "stderr",
     "output_type": "stream",
     "text": [
      "/home/hirak/miniconda2/envs/r-updated/lib/python3.6/site-packages/sklearn/utils/validation.py:892: UserWarning: Array is not symmetric, and will be converted to symmetric by average with its transpose.\n",
      "  warnings.warn(\"Array is not symmetric, and will be converted \"\n"
     ]
    },
    {
     "name": "stdout",
     "output_type": "stream",
     "text": [
      "E:10.64333945039629, J:-1407.069807252463, J':-1407.069807252463\n",
      "E:10.74108140182328, J:-1470.3692120964004, J':-1470.3692120964004\n"
     ]
    },
    {
     "name": "stderr",
     "output_type": "stream",
     "text": [
      "/home/hirak/miniconda2/envs/r-updated/lib/python3.6/site-packages/sklearn/utils/validation.py:892: UserWarning: Array is not symmetric, and will be converted to symmetric by average with its transpose.\n",
      "  warnings.warn(\"Array is not symmetric, and will be converted \"\n"
     ]
    },
    {
     "name": "stdout",
     "output_type": "stream",
     "text": [
      "E:11.295287682886856, J:-1391.4322488888045, J':-1391.4322488888045\n",
      "E:15.44935957093281, J:-1441.9201119558488, J':-1441.9201119558488\n"
     ]
    },
    {
     "name": "stderr",
     "output_type": "stream",
     "text": [
      "/home/hirak/miniconda2/envs/r-updated/lib/python3.6/site-packages/sklearn/utils/validation.py:892: UserWarning: Array is not symmetric, and will be converted to symmetric by average with its transpose.\n",
      "  warnings.warn(\"Array is not symmetric, and will be converted \"\n"
     ]
    },
    {
     "name": "stdout",
     "output_type": "stream",
     "text": [
      "E:15.296239718343601, J:-1491.2623041518555, J':-1491.2623041518555\n",
      "E:12.285724826572686, J:-1531.7034703377326, J':-1531.7034703377326\n"
     ]
    },
    {
     "name": "stderr",
     "output_type": "stream",
     "text": [
      "/home/hirak/miniconda2/envs/r-updated/lib/python3.6/site-packages/sklearn/utils/validation.py:892: UserWarning: Array is not symmetric, and will be converted to symmetric by average with its transpose.\n",
      "  warnings.warn(\"Array is not symmetric, and will be converted \"\n"
     ]
    },
    {
     "name": "stdout",
     "output_type": "stream",
     "text": [
      "E:12.291174879137067, J:-1495.4037631065194, J':-1495.4037631065194\n",
      "E:12.646513776924744, J:-1445.8044979816739, J':-1445.8044979816739\n"
     ]
    },
    {
     "name": "stderr",
     "output_type": "stream",
     "text": [
      "/home/hirak/miniconda2/envs/r-updated/lib/python3.6/site-packages/sklearn/utils/validation.py:892: UserWarning: Array is not symmetric, and will be converted to symmetric by average with its transpose.\n",
      "  warnings.warn(\"Array is not symmetric, and will be converted \"\n"
     ]
    },
    {
     "name": "stdout",
     "output_type": "stream",
     "text": [
      "E:13.702444115983052, J:-1321.722041828099, J':-1321.722041828099\n",
      "E:13.440639038731486, J:-1461.7393536251739, J':-1461.7393536251739\n"
     ]
    },
    {
     "name": "stderr",
     "output_type": "stream",
     "text": [
      "/home/hirak/miniconda2/envs/r-updated/lib/python3.6/site-packages/sklearn/utils/validation.py:892: UserWarning: Array is not symmetric, and will be converted to symmetric by average with its transpose.\n",
      "  warnings.warn(\"Array is not symmetric, and will be converted \"\n"
     ]
    },
    {
     "name": "stdout",
     "output_type": "stream",
     "text": [
      "E:14.567612088340141, J:-1338.9630519386028, J':-1338.9630519386028\n",
      "E:14.822269389465774, J:-1356.9281021075649, J':-1356.9281021075649\n"
     ]
    },
    {
     "name": "stderr",
     "output_type": "stream",
     "text": [
      "/home/hirak/miniconda2/envs/r-updated/lib/python3.6/site-packages/sklearn/utils/validation.py:892: UserWarning: Array is not symmetric, and will be converted to symmetric by average with its transpose.\n",
      "  warnings.warn(\"Array is not symmetric, and will be converted \"\n"
     ]
    },
    {
     "name": "stdout",
     "output_type": "stream",
     "text": [
      "E:17.063978648636294, J:-1417.8915525866373, J':-1417.8915525866373\n",
      "E:15.012847303936887, J:-1336.3238192446702, J':-1336.3238192446702\n"
     ]
    },
    {
     "name": "stderr",
     "output_type": "stream",
     "text": [
      "/home/hirak/miniconda2/envs/r-updated/lib/python3.6/site-packages/sklearn/utils/validation.py:892: UserWarning: Array is not symmetric, and will be converted to symmetric by average with its transpose.\n",
      "  warnings.warn(\"Array is not symmetric, and will be converted \"\n"
     ]
    },
    {
     "name": "stdout",
     "output_type": "stream",
     "text": [
      "E:15.863626850549345, J:-1317.0392089801219, J':-1317.0392089801219\n"
     ]
    }
   ],
   "source": [
    "models_sc = {}\n",
    "models = {}\n",
    "for Q in range(3,21):\n",
    "    models[Q] = get_model(Q)\n",
    "    models_sc[Q] = get_model(Q, sc = True)"
   ]
  },
  {
   "cell_type": "code",
   "execution_count": 416,
   "metadata": {},
   "outputs": [
    {
     "data": {
      "text/plain": [
       "18"
      ]
     },
     "execution_count": 416,
     "metadata": {},
     "output_type": "execute_result"
    }
   ],
   "source": [
    "len(models)"
   ]
  },
  {
   "cell_type": "code",
   "execution_count": 417,
   "metadata": {},
   "outputs": [],
   "source": [
    "icl_vec = {}\n",
    "icl_vec_sc = {}\n",
    "for Q in range(3,21):\n",
    "    val = (\n",
    "        models[Q].entropy() + models[Q].likelihood()   -\n",
    "        0.5 * (\n",
    "            (0.5*(Q)*(Q+1) * np.log(num_nodes*(num_nodes-1)) -\n",
    "             (Q-1) * np.log(num_nodes)\n",
    "            )\n",
    "        )\n",
    "    )\n",
    "    \n",
    "    val2 = (\n",
    "        models_sc[Q].entropy() + models_sc[Q].likelihood() -\n",
    "        0.5 * (\n",
    "            (0.5*(Q)*(Q+1) * np.log(num_nodes*(num_nodes-1)) -\n",
    "             (Q-1) * np.log(num_nodes)\n",
    "            )\n",
    "        )\n",
    "    )\n",
    "    \n",
    "    icl_vec[Q] = [models[Q].entropy() + models[Q].likelihood(), val]\n",
    "    icl_vec_sc[Q] = [models_sc[Q].entropy() + models_sc[Q].likelihood(), val2]"
   ]
  },
  {
   "cell_type": "code",
   "execution_count": 418,
   "metadata": {},
   "outputs": [],
   "source": [
    "df_Q = pd.DataFrame.from_dict(icl_vec, \n",
    "                       orient = 'index',\n",
    "                       columns = ['likelihood', 'ICL']\n",
    "                      )\n",
    "\n",
    "df_sc = pd.DataFrame.from_dict(icl_vec_sc, \n",
    "                       orient = 'index',\n",
    "                       columns = ['likelihood', 'ICL']\n",
    "                      )"
   ]
  },
  {
   "cell_type": "code",
   "execution_count": 419,
   "metadata": {},
   "outputs": [
    {
     "data": {
      "image/png": "[encoded data removed]",
      "text/plain": [
       "<Figure size 432x288 with 1 Axes>"
      ]
     },
     "metadata": {
      "needs_background": "light"
     },
     "output_type": "display_data"
    }
   ],
   "source": [
    "df_Q[['likelihood', 'ICL']].plot()\n",
    "plt.ylabel('Likelihood $L$')\n",
    "plt.xlabel('Number of clusters')\n",
    "plt.title('ILC vs Likelihood plot for random initialization')\n",
    "plt.show()"
   ]
  },
  {
   "cell_type": "code",
   "execution_count": 420,
   "metadata": {},
   "outputs": [
    {
     "data": {
      "image/png": "[encoded data removed]",
      "text/plain": [
       "<Figure size 432x288 with 1 Axes>"
      ]
     },
     "metadata": {
      "needs_background": "light"
     },
     "output_type": "display_data"
    }
   ],
   "source": [
    "df_sc[['likelihood', 'ICL']].plot()\n",
    "plt.ylabel('Likelihood $L$')\n",
    "plt.xlabel('Number of clusters')\n",
    "plt.title('ILC vs Likelihood plot for spectral clustering initialization')\n",
    "plt.show()"
   ]
  },
  {
   "cell_type": "code",
   "execution_count": 421,
   "metadata": {},
   "outputs": [],
   "source": [
    "opt_class_random = df_Q.loc[df_Q.ICL == df_Q.ICL.max()].index[0]"
   ]
  },
  {
   "cell_type": "code",
   "execution_count": 422,
   "metadata": {},
   "outputs": [],
   "source": [
    "opt_class_spec = df_sc.loc[df_sc.ICL == df_sc.ICL.max()].index[0]"
   ]
  },
  {
   "cell_type": "code",
   "execution_count": 423,
   "metadata": {},
   "outputs": [
    {
     "data": {
      "text/plain": [
       "(10, 9)"
      ]
     },
     "execution_count": 423,
     "metadata": {},
     "output_type": "execute_result"
    }
   ],
   "source": [
    "opt_class_spec, opt_class_random"
   ]
  },
  {
   "cell_type": "code",
   "execution_count": 424,
   "metadata": {},
   "outputs": [],
   "source": [
    "cluster_id = {}\n",
    "for i in range(G.number_of_nodes()):\n",
    "    cluster_id[i] = np.argmax(models_sc[opt_class_spec].tau[i])"
   ]
  },
  {
   "cell_type": "code",
   "execution_count": 425,
   "metadata": {},
   "outputs": [],
   "source": [
    "random_id = {}\n",
    "for i in range(G.number_of_nodes()):\n",
    "    random_id[i] = np.argmax(models[opt_class_random].tau[i])"
   ]
  },
  {
   "cell_type": "code",
   "execution_count": 426,
   "metadata": {},
   "outputs": [],
   "source": [
    "df_clust = pd.DataFrame.from_dict(\n",
    "    cluster_id, \n",
    "    orient='index',\n",
    "    columns = ['clust_id']\n",
    ")"
   ]
  },
  {
   "cell_type": "code",
   "execution_count": 427,
   "metadata": {},
   "outputs": [],
   "source": [
    "df_random = pd.DataFrame.from_dict(\n",
    "    random_id, \n",
    "    orient='index',\n",
    "    columns = ['random_id']\n",
    ")"
   ]
  },
  {
   "cell_type": "code",
   "execution_count": 428,
   "metadata": {},
   "outputs": [],
   "source": [
    "def get_entropy(model_num):\n",
    "    return ((-(models_sc[model_num].tau) * np.log(models_sc[model_num].tau)))"
   ]
  },
  {
   "cell_type": "code",
   "execution_count": 429,
   "metadata": {},
   "outputs": [],
   "source": [
    "def get_entropy_model(model_num):\n",
    "    return ((-(models[model_num].tau) * np.log(models[model_num].tau)))"
   ]
  },
  {
   "cell_type": "code",
   "execution_count": 430,
   "metadata": {},
   "outputs": [
    {
     "data": {
      "image/png": "[encoded data removed]",
      "text/plain": [
       "<Figure size 432x288 with 1 Axes>"
      ]
     },
     "metadata": {
      "needs_background": "light"
     },
     "output_type": "display_data"
    }
   ],
   "source": [
    "_ = plt.hist(get_entropy(opt_class_spec).sum(axis=1))\n",
    "plt.ylabel('Frequency')\n",
    "plt.xlabel('Entropy of $\\\\tau$')\n",
    "plt.title('Histogram of entropy distribution')\n",
    "plt.show()"
   ]
  },
  {
   "cell_type": "markdown",
   "metadata": {},
   "source": [
    "### Non-probabilistic modularity methods (Louvain method)"
   ]
  },
  {
   "cell_type": "code",
   "execution_count": 439,
   "metadata": {},
   "outputs": [],
   "source": [
    "clust_lv = community.best_partition(G, resolution = 0.712)"
   ]
  },
  {
   "cell_type": "code",
   "execution_count": 440,
   "metadata": {},
   "outputs": [
    {
     "data": {
      "text/plain": [
       "8"
      ]
     },
     "execution_count": 440,
     "metadata": {},
     "output_type": "execute_result"
    }
   ],
   "source": [
    "max(clust_lv.values())"
   ]
  },
  {
   "cell_type": "code",
   "execution_count": 441,
   "metadata": {},
   "outputs": [],
   "source": [
    "df_lv = pd.DataFrame.from_dict(\n",
    "    clust_lv, \n",
    "    orient='index',\n",
    "    columns = ['lv']\n",
    ")"
   ]
  },
  {
   "cell_type": "code",
   "execution_count": 442,
   "metadata": {},
   "outputs": [],
   "source": [
    "joint_clust = df_random.join(df_lv)"
   ]
  },
  {
   "cell_type": "code",
   "execution_count": 443,
   "metadata": {},
   "outputs": [],
   "source": [
    "joint_clust = joint_clust.reset_index()"
   ]
  },
  {
   "cell_type": "code",
   "execution_count": 444,
   "metadata": {},
   "outputs": [],
   "source": [
    "membership_mat_lv = np.zeros(((int(max(clust_lv.values())+1)), num_nodes))\n",
    "membership_mat_sbm = np.zeros((opt_class_spec, num_nodes))"
   ]
  },
  {
   "cell_type": "code",
   "execution_count": 446,
   "metadata": {},
   "outputs": [],
   "source": [
    "for g,l in  joint_clust.groupby('lv')['index'].apply(list).to_dict().items():\n",
    "    membership_mat_lv[g,l] = 1\n",
    "\n",
    "for g,l in  joint_clust.groupby('random_id')['index'].apply(list).to_dict().items():\n",
    "    membership_mat_sbm[g,l] = 1"
   ]
  },
  {
   "cell_type": "code",
   "execution_count": 448,
   "metadata": {},
   "outputs": [
    {
     "data": {
      "text/plain": [
       "8    26\n",
       "2    22\n",
       "3    17\n",
       "6    12\n",
       "7     9\n",
       "1     8\n",
       "5     6\n",
       "4     5\n",
       "0     1\n",
       "Name: random_id, dtype: int64"
      ]
     },
     "execution_count": 448,
     "metadata": {},
     "output_type": "execute_result"
    }
   ],
   "source": [
    "joint_clust.random_id.value_counts()"
   ]
  },
  {
   "cell_type": "code",
   "execution_count": 449,
   "metadata": {},
   "outputs": [
    {
     "data": {
      "text/plain": [
       "1    27\n",
       "0    22\n",
       "6    18\n",
       "8    12\n",
       "7    10\n",
       "3     9\n",
       "5     5\n",
       "2     2\n",
       "4     1\n",
       "Name: lv, dtype: int64"
      ]
     },
     "execution_count": 449,
     "metadata": {},
     "output_type": "execute_result"
    }
   ],
   "source": [
    "joint_clust.lv.value_counts()"
   ]
  },
  {
   "cell_type": "code",
   "execution_count": 450,
   "metadata": {},
   "outputs": [
    {
     "data": {
      "text/plain": [
       "<matplotlib.axes._subplots.AxesSubplot at 0x7f1c2edd7c18>"
      ]
     },
     "execution_count": 450,
     "metadata": {},
     "output_type": "execute_result"
    },
    {
     "data": {
      "image/png": "[encoded data removed]",
      "text/plain": [
       "<Figure size 432x288 with 2 Axes>"
      ]
     },
     "metadata": {
      "needs_background": "light"
     },
     "output_type": "display_data"
    }
   ],
   "source": [
    "sns.heatmap(membership_mat_lv)"
   ]
  },
  {
   "cell_type": "code",
   "execution_count": 457,
   "metadata": {},
   "outputs": [
    {
     "data": {
      "text/plain": [
       "9"
      ]
     },
     "execution_count": 457,
     "metadata": {},
     "output_type": "execute_result"
    }
   ],
   "source": [
    "opt_class_random"
   ]
  },
  {
   "cell_type": "code",
   "execution_count": 458,
   "metadata": {},
   "outputs": [],
   "source": [
    "from scipy.spatial import distance\n",
    "distance_mat = np.zeros((opt_class_random, opt_class_random))\n",
    "for i in range(opt_class_random):\n",
    "    for j in range(opt_class_random):\n",
    "        if i <= j:\n",
    "            distance_mat[i][j] = distance.jaccard(membership_mat_lv[i,], membership_mat_sbm[j,])\n",
    "            distance_mat[j][i] = distance_mat[i][j]"
   ]
  },
  {
   "cell_type": "code",
   "execution_count": 459,
   "metadata": {},
   "outputs": [
    {
     "data": {
      "text/plain": [
       "<matplotlib.axes._subplots.AxesSubplot at 0x7f1c2ea406a0>"
      ]
     },
     "execution_count": 459,
     "metadata": {},
     "output_type": "execute_result"
    },
    {
     "data": {
      "image/png": "[encoded data removed]",
      "text/plain": [
       "<Figure size 432x288 with 2 Axes>"
      ]
     },
     "metadata": {
      "needs_background": "light"
     },
     "output_type": "display_data"
    }
   ],
   "source": [
    "sns.heatmap(distance_mat, annot=True)"
   ]
  },
  {
   "cell_type": "code",
   "execution_count": 460,
   "metadata": {},
   "outputs": [
    {
     "data": {
      "text/plain": [
       "array([0.58333333, 0.39393939, 0.94444444, 0.81081081, 0.92307692,\n",
       "       0.7826087 , 0.58333333, 0.64285714, 0.39393939])"
      ]
     },
     "execution_count": 460,
     "metadata": {},
     "output_type": "execute_result"
    }
   ],
   "source": [
    "distance_mat.min(axis=1)"
   ]
  },
  {
   "cell_type": "code",
   "execution_count": 373,
   "metadata": {},
   "outputs": [],
   "source": [
    "gt_dict = joint_clust.groupby('tro').node.apply(list).to_dict()"
   ]
  },
  {
   "cell_type": "code",
   "execution_count": 374,
   "metadata": {},
   "outputs": [],
   "source": [
    "vbem_dict = joint_clust.groupby('clust_id').node.apply(list).to_dict()"
   ]
  },
  {
   "cell_type": "code",
   "execution_count": 376,
   "metadata": {},
   "outputs": [],
   "source": [
    "def create_parity_matrix(cluster_dict):\n",
    "    parity_mat = np.zeros((106,106))\n",
    "    for clust in cluster_dict:\n",
    "        node_list = cluster_dict[clust]\n",
    "        for i,j in itertools.combinations(node_list, 2):\n",
    "            parity_mat[i][j] = 1\n",
    "            parity_mat[j][i] = 1\n",
    "    return parity_mat"
   ]
  },
  {
   "cell_type": "code",
   "execution_count": 377,
   "metadata": {},
   "outputs": [],
   "source": [
    "gt_mat = create_parity_matrix(gt_dict)"
   ]
  },
  {
   "cell_type": "code",
   "execution_count": 378,
   "metadata": {},
   "outputs": [
    {
     "data": {
      "text/plain": [
       "<matplotlib.axes._subplots.AxesSubplot at 0x7fac5e822208>"
      ]
     },
     "execution_count": 378,
     "metadata": {},
     "output_type": "execute_result"
    },
    {
     "data": {
      "image/png": "[encoded data removed]",
      "text/plain": [
       "<Figure size 864x864 with 2 Axes>"
      ]
     },
     "metadata": {
      "needs_background": "light"
     },
     "output_type": "display_data"
    }
   ],
   "source": [
    "plt.figure(figsize=(12, 12))\n",
    "sns.heatmap(gt_mat)"
   ]
  },
  {
   "cell_type": "code",
   "execution_count": 379,
   "metadata": {},
   "outputs": [
    {
     "data": {
      "text/plain": [
       "<matplotlib.axes._subplots.AxesSubplot at 0x7fac5eec4b00>"
      ]
     },
     "execution_count": 379,
     "metadata": {},
     "output_type": "execute_result"
    },
    {
     "data": {
      "image/png": "[encoded data removed]",
      "text/plain": [
       "<Figure size 864x864 with 2 Axes>"
      ]
     },
     "metadata": {
      "needs_background": "light"
     },
     "output_type": "display_data"
    }
   ],
   "source": [
    "vbem_mat = create_parity_matrix(vbem_dict)\n",
    "plt.figure(figsize=(12, 12))\n",
    "sns.heatmap(vbem_mat)"
   ]
  },
  {
   "cell_type": "code",
   "execution_count": 278,
   "metadata": {},
   "outputs": [],
   "source": [
    "from scipy.spatial import distance\n",
    "distance_vec = []\n",
    "for i in range(G.number_of_nodes()):\n",
    "    distance_vec += [distance.jaccard(gt_mat[i,], vbem_mat[i,])]"
   ]
  },
  {
   "cell_type": "code",
   "execution_count": 276,
   "metadata": {},
   "outputs": [
    {
     "data": {
      "text/plain": [
       "(array([12., 11.,  9.,  6.,  0.,  8., 24.,  5., 22.,  9.]),\n",
       " array([0. , 0.9, 1.8, 2.7, 3.6, 4.5, 5.4, 6.3, 7.2, 8.1, 9. ]),\n",
       " <a list of 10 Patch objects>)"
      ]
     },
     "execution_count": 276,
     "metadata": {},
     "output_type": "execute_result"
    },
    {
     "data": {
      "image/png": "[encoded data removed]",
      "text/plain": [
       "<Figure size 432x288 with 1 Axes>"
      ]
     },
     "metadata": {
      "needs_background": "light"
     },
     "output_type": "display_data"
    }
   ],
   "source": [
    "plt.hist(joint_clust.lv.values, alpha = 0.4)\n",
    "plt.hist(joint_clust.clust_id.values, alpha = 0.4)"
   ]
  },
  {
   "cell_type": "markdown",
   "metadata": {},
   "source": [
    "### Predictability of metadata"
   ]
  },
  {
   "cell_type": "code",
   "execution_count": 279,
   "metadata": {},
   "outputs": [],
   "source": [
    "meta_data_df = pd.read_csv('../data/meta_data.csv', sep = '\\t')"
   ]
  },
  {
   "cell_type": "code",
   "execution_count": 461,
   "metadata": {},
   "outputs": [],
   "source": [
    "#df[['Unnamed: 0','Unnamed: 1']]"
   ]
  },
  {
   "cell_type": "code",
   "execution_count": 287,
   "metadata": {},
   "outputs": [],
   "source": [
    "meta_data_df.index = np.arange(num_nodes).astype(int)"
   ]
  },
  {
   "cell_type": "code",
   "execution_count": 289,
   "metadata": {},
   "outputs": [
    {
     "data": {
      "text/html": [
       "<div>\n",
       "<style scoped>\n",
       "    .dataframe tbody tr th:only-of-type {\n",
       "        vertical-align: middle;\n",
       "    }\n",
       "\n",
       "    .dataframe tbody tr th {\n",
       "        vertical-align: top;\n",
       "    }\n",
       "\n",
       "    .dataframe thead th {\n",
       "        text-align: right;\n",
       "    }\n",
       "</style>\n",
       "<table border=\"1\" class=\"dataframe\">\n",
       "  <thead>\n",
       "    <tr style=\"text-align: right;\">\n",
       "      <th></th>\n",
       "      <th>Spec</th>\n",
       "      <th>Species names</th>\n",
       "      <th>BodyMass</th>\n",
       "      <th>sessile/mobile</th>\n",
       "      <th>Cluster</th>\n",
       "      <th>Shore Height 1 conservative</th>\n",
       "      <th>ShoreHt_C_Ordinal</th>\n",
       "      <th>ShoreHt_C_Breadth</th>\n",
       "      <th>Shore Height 2 restrictive</th>\n",
       "      <th>ShoreHt_R_Ordinal</th>\n",
       "      <th>ShortHt_R_Breadth</th>\n",
       "      <th>Phyllum</th>\n",
       "      <th>subphyllum</th>\n",
       "      <th>trophic</th>\n",
       "      <th>index</th>\n",
       "      <th>clust_id</th>\n",
       "      <th>lv</th>\n",
       "    </tr>\n",
       "  </thead>\n",
       "  <tbody>\n",
       "    <tr>\n",
       "      <th>0</th>\n",
       "      <td>1</td>\n",
       "      <td>acanthina monodon</td>\n",
       "      <td>8.00000</td>\n",
       "      <td>M</td>\n",
       "      <td>4</td>\n",
       "      <td>mid, low</td>\n",
       "      <td>1.5</td>\n",
       "      <td>2</td>\n",
       "      <td>low</td>\n",
       "      <td>1.0</td>\n",
       "      <td>1</td>\n",
       "      <td>Mollusca</td>\n",
       "      <td>Gastropoda</td>\n",
       "      <td>Predator</td>\n",
       "      <td>0</td>\n",
       "      <td>7</td>\n",
       "      <td>0</td>\n",
       "    </tr>\n",
       "    <tr>\n",
       "      <th>1</th>\n",
       "      <td>2</td>\n",
       "      <td>acanthocyclus gayi</td>\n",
       "      <td>6.01000</td>\n",
       "      <td>M</td>\n",
       "      <td>1</td>\n",
       "      <td>mid, low</td>\n",
       "      <td>1.5</td>\n",
       "      <td>2</td>\n",
       "      <td>mid, low</td>\n",
       "      <td>1.5</td>\n",
       "      <td>2</td>\n",
       "      <td>Arthropoda</td>\n",
       "      <td>Crustacae</td>\n",
       "      <td>Predator</td>\n",
       "      <td>1</td>\n",
       "      <td>0</td>\n",
       "      <td>0</td>\n",
       "    </tr>\n",
       "    <tr>\n",
       "      <th>2</th>\n",
       "      <td>3</td>\n",
       "      <td>acanthocyclus hassleri</td>\n",
       "      <td>6.65000</td>\n",
       "      <td>M</td>\n",
       "      <td>1</td>\n",
       "      <td>mid, low</td>\n",
       "      <td>1.5</td>\n",
       "      <td>2</td>\n",
       "      <td>mid</td>\n",
       "      <td>2.0</td>\n",
       "      <td>1</td>\n",
       "      <td>Arthropoda</td>\n",
       "      <td>Crustacae</td>\n",
       "      <td>Predator</td>\n",
       "      <td>2</td>\n",
       "      <td>0</td>\n",
       "      <td>0</td>\n",
       "    </tr>\n",
       "    <tr>\n",
       "      <th>3</th>\n",
       "      <td>4</td>\n",
       "      <td>acanthopleura echinata</td>\n",
       "      <td>5.10000</td>\n",
       "      <td>M</td>\n",
       "      <td>7</td>\n",
       "      <td>low</td>\n",
       "      <td>1.0</td>\n",
       "      <td>1</td>\n",
       "      <td>low</td>\n",
       "      <td>1.0</td>\n",
       "      <td>1</td>\n",
       "      <td>Mollusca</td>\n",
       "      <td>Polyplacophora</td>\n",
       "      <td>Herbivore</td>\n",
       "      <td>3</td>\n",
       "      <td>9</td>\n",
       "      <td>1</td>\n",
       "    </tr>\n",
       "    <tr>\n",
       "      <th>4</th>\n",
       "      <td>5</td>\n",
       "      <td>chaetopleura peruviana</td>\n",
       "      <td>0.18000</td>\n",
       "      <td>M</td>\n",
       "      <td>7</td>\n",
       "      <td>low</td>\n",
       "      <td>1.0</td>\n",
       "      <td>1</td>\n",
       "      <td>low</td>\n",
       "      <td>1.0</td>\n",
       "      <td>1</td>\n",
       "      <td>Mollusca</td>\n",
       "      <td>Polyplacophora</td>\n",
       "      <td>Herbivore</td>\n",
       "      <td>4</td>\n",
       "      <td>9</td>\n",
       "      <td>1</td>\n",
       "    </tr>\n",
       "    <tr>\n",
       "      <th>5</th>\n",
       "      <td>6</td>\n",
       "      <td>chiton  cummingsi</td>\n",
       "      <td>8.23000</td>\n",
       "      <td>M</td>\n",
       "      <td>7</td>\n",
       "      <td>low</td>\n",
       "      <td>1.0</td>\n",
       "      <td>1</td>\n",
       "      <td>low</td>\n",
       "      <td>1.0</td>\n",
       "      <td>1</td>\n",
       "      <td>Mollusca</td>\n",
       "      <td>Polyplacophora</td>\n",
       "      <td>Herbivore</td>\n",
       "      <td>5</td>\n",
       "      <td>9</td>\n",
       "      <td>1</td>\n",
       "    </tr>\n",
       "    <tr>\n",
       "      <th>6</th>\n",
       "      <td>7</td>\n",
       "      <td>chiton  granosus</td>\n",
       "      <td>2.30000</td>\n",
       "      <td>M</td>\n",
       "      <td>7</td>\n",
       "      <td>mid, low</td>\n",
       "      <td>1.5</td>\n",
       "      <td>2</td>\n",
       "      <td>mid</td>\n",
       "      <td>2.0</td>\n",
       "      <td>1</td>\n",
       "      <td>Mollusca</td>\n",
       "      <td>Polyplacophora</td>\n",
       "      <td>Herbivore</td>\n",
       "      <td>6</td>\n",
       "      <td>9</td>\n",
       "      <td>1</td>\n",
       "    </tr>\n",
       "    <tr>\n",
       "      <th>7</th>\n",
       "      <td>8</td>\n",
       "      <td>chiton  latus</td>\n",
       "      <td>0.06000</td>\n",
       "      <td>M</td>\n",
       "      <td>7</td>\n",
       "      <td>mid, low</td>\n",
       "      <td>1.5</td>\n",
       "      <td>2</td>\n",
       "      <td>mid</td>\n",
       "      <td>2.0</td>\n",
       "      <td>1</td>\n",
       "      <td>Mollusca</td>\n",
       "      <td>Polyplacophora</td>\n",
       "      <td>Herbivore</td>\n",
       "      <td>7</td>\n",
       "      <td>9</td>\n",
       "      <td>1</td>\n",
       "    </tr>\n",
       "    <tr>\n",
       "      <th>8</th>\n",
       "      <td>9</td>\n",
       "      <td>lottia  orbignyi</td>\n",
       "      <td>0.02000</td>\n",
       "      <td>M</td>\n",
       "      <td>9</td>\n",
       "      <td>high, mid</td>\n",
       "      <td>2.5</td>\n",
       "      <td>2</td>\n",
       "      <td>high, mid</td>\n",
       "      <td>2.5</td>\n",
       "      <td>2</td>\n",
       "      <td>Mollusca</td>\n",
       "      <td>Gastropoda</td>\n",
       "      <td>Herbivore</td>\n",
       "      <td>8</td>\n",
       "      <td>2</td>\n",
       "      <td>0</td>\n",
       "    </tr>\n",
       "    <tr>\n",
       "      <th>9</th>\n",
       "      <td>10</td>\n",
       "      <td>concholepas concholepas</td>\n",
       "      <td>2.30000</td>\n",
       "      <td>M</td>\n",
       "      <td>1</td>\n",
       "      <td>mid, low</td>\n",
       "      <td>1.5</td>\n",
       "      <td>2</td>\n",
       "      <td>low</td>\n",
       "      <td>1.0</td>\n",
       "      <td>1</td>\n",
       "      <td>Mollusca</td>\n",
       "      <td>Gastropoda</td>\n",
       "      <td>Predator</td>\n",
       "      <td>9</td>\n",
       "      <td>0</td>\n",
       "      <td>0</td>\n",
       "    </tr>\n",
       "    <tr>\n",
       "      <th>10</th>\n",
       "      <td>11</td>\n",
       "      <td>enoplochiton  niger</td>\n",
       "      <td>6.00000</td>\n",
       "      <td>M</td>\n",
       "      <td>7</td>\n",
       "      <td>low</td>\n",
       "      <td>1.0</td>\n",
       "      <td>1</td>\n",
       "      <td>low</td>\n",
       "      <td>1.0</td>\n",
       "      <td>1</td>\n",
       "      <td>Mollusca</td>\n",
       "      <td>Polyplacophora</td>\n",
       "      <td>Herbivore</td>\n",
       "      <td>10</td>\n",
       "      <td>9</td>\n",
       "      <td>2</td>\n",
       "    </tr>\n",
       "    <tr>\n",
       "      <th>11</th>\n",
       "      <td>12</td>\n",
       "      <td>fissurella  costata</td>\n",
       "      <td>49.03000</td>\n",
       "      <td>M</td>\n",
       "      <td>7</td>\n",
       "      <td>low</td>\n",
       "      <td>1.0</td>\n",
       "      <td>1</td>\n",
       "      <td>low</td>\n",
       "      <td>1.0</td>\n",
       "      <td>1</td>\n",
       "      <td>Mollusca</td>\n",
       "      <td>Gastropoda</td>\n",
       "      <td>Herbivore</td>\n",
       "      <td>11</td>\n",
       "      <td>9</td>\n",
       "      <td>3</td>\n",
       "    </tr>\n",
       "    <tr>\n",
       "      <th>12</th>\n",
       "      <td>13</td>\n",
       "      <td>fissurella  crassa</td>\n",
       "      <td>15.20000</td>\n",
       "      <td>M</td>\n",
       "      <td>7</td>\n",
       "      <td>mid, low</td>\n",
       "      <td>1.5</td>\n",
       "      <td>2</td>\n",
       "      <td>mid</td>\n",
       "      <td>2.0</td>\n",
       "      <td>1</td>\n",
       "      <td>Mollusca</td>\n",
       "      <td>Gastropoda</td>\n",
       "      <td>Herbivore</td>\n",
       "      <td>12</td>\n",
       "      <td>9</td>\n",
       "      <td>1</td>\n",
       "    </tr>\n",
       "    <tr>\n",
       "      <th>13</th>\n",
       "      <td>14</td>\n",
       "      <td>fissurella  cummingi</td>\n",
       "      <td>18.00000</td>\n",
       "      <td>M</td>\n",
       "      <td>14</td>\n",
       "      <td>low</td>\n",
       "      <td>1.0</td>\n",
       "      <td>1</td>\n",
       "      <td>low</td>\n",
       "      <td>1.0</td>\n",
       "      <td>1</td>\n",
       "      <td>Mollusca</td>\n",
       "      <td>Gastropoda</td>\n",
       "      <td>Herbivore</td>\n",
       "      <td>13</td>\n",
       "      <td>5</td>\n",
       "      <td>4</td>\n",
       "    </tr>\n",
       "    <tr>\n",
       "      <th>14</th>\n",
       "      <td>15</td>\n",
       "      <td>fissurella  limbata</td>\n",
       "      <td>16.45000</td>\n",
       "      <td>M</td>\n",
       "      <td>7</td>\n",
       "      <td>low</td>\n",
       "      <td>1.0</td>\n",
       "      <td>1</td>\n",
       "      <td>low</td>\n",
       "      <td>1.0</td>\n",
       "      <td>1</td>\n",
       "      <td>Mollusca</td>\n",
       "      <td>Gastropoda</td>\n",
       "      <td>Herbivore</td>\n",
       "      <td>14</td>\n",
       "      <td>9</td>\n",
       "      <td>5</td>\n",
       "    </tr>\n",
       "    <tr>\n",
       "      <th>15</th>\n",
       "      <td>16</td>\n",
       "      <td>fissurella  maxima</td>\n",
       "      <td>11.00000</td>\n",
       "      <td>M</td>\n",
       "      <td>14</td>\n",
       "      <td>low</td>\n",
       "      <td>1.0</td>\n",
       "      <td>1</td>\n",
       "      <td>low</td>\n",
       "      <td>1.0</td>\n",
       "      <td>1</td>\n",
       "      <td>Mollusca</td>\n",
       "      <td>Gastropoda</td>\n",
       "      <td>Herbivore</td>\n",
       "      <td>15</td>\n",
       "      <td>5</td>\n",
       "      <td>4</td>\n",
       "    </tr>\n",
       "    <tr>\n",
       "      <th>16</th>\n",
       "      <td>17</td>\n",
       "      <td>fissurella  picta</td>\n",
       "      <td>15.00000</td>\n",
       "      <td>M</td>\n",
       "      <td>14</td>\n",
       "      <td>low</td>\n",
       "      <td>1.0</td>\n",
       "      <td>1</td>\n",
       "      <td>low</td>\n",
       "      <td>1.0</td>\n",
       "      <td>1</td>\n",
       "      <td>Mollusca</td>\n",
       "      <td>Gastropoda</td>\n",
       "      <td>Herbivore</td>\n",
       "      <td>16</td>\n",
       "      <td>5</td>\n",
       "      <td>4</td>\n",
       "    </tr>\n",
       "    <tr>\n",
       "      <th>17</th>\n",
       "      <td>18</td>\n",
       "      <td>fissurella  puhlcra</td>\n",
       "      <td>15.00000</td>\n",
       "      <td>M</td>\n",
       "      <td>14</td>\n",
       "      <td>low</td>\n",
       "      <td>1.0</td>\n",
       "      <td>1</td>\n",
       "      <td>low</td>\n",
       "      <td>1.0</td>\n",
       "      <td>1</td>\n",
       "      <td>Mollusca</td>\n",
       "      <td>Gastropoda</td>\n",
       "      <td>Herbivore</td>\n",
       "      <td>17</td>\n",
       "      <td>5</td>\n",
       "      <td>4</td>\n",
       "    </tr>\n",
       "    <tr>\n",
       "      <th>18</th>\n",
       "      <td>19</td>\n",
       "      <td>heliaster helianthus</td>\n",
       "      <td>173.46000</td>\n",
       "      <td>M</td>\n",
       "      <td>1</td>\n",
       "      <td>mid, low</td>\n",
       "      <td>1.5</td>\n",
       "      <td>2</td>\n",
       "      <td>low</td>\n",
       "      <td>1.0</td>\n",
       "      <td>1</td>\n",
       "      <td>Echinodermata</td>\n",
       "      <td>Asteroidea</td>\n",
       "      <td>Predator</td>\n",
       "      <td>18</td>\n",
       "      <td>0</td>\n",
       "      <td>0</td>\n",
       "    </tr>\n",
       "    <tr>\n",
       "      <th>19</th>\n",
       "      <td>20</td>\n",
       "      <td>scurria  araucana</td>\n",
       "      <td>0.02000</td>\n",
       "      <td>M</td>\n",
       "      <td>9</td>\n",
       "      <td>high, mid, low</td>\n",
       "      <td>2.0</td>\n",
       "      <td>3</td>\n",
       "      <td>high, mid</td>\n",
       "      <td>2.5</td>\n",
       "      <td>2</td>\n",
       "      <td>Mollusca</td>\n",
       "      <td>Gastropoda</td>\n",
       "      <td>Herbivore</td>\n",
       "      <td>19</td>\n",
       "      <td>2</td>\n",
       "      <td>0</td>\n",
       "    </tr>\n",
       "    <tr>\n",
       "      <th>20</th>\n",
       "      <td>22</td>\n",
       "      <td>scurria  ceciliana</td>\n",
       "      <td>0.04500</td>\n",
       "      <td>M</td>\n",
       "      <td>9</td>\n",
       "      <td>high, mid</td>\n",
       "      <td>2.5</td>\n",
       "      <td>2</td>\n",
       "      <td>high, mid</td>\n",
       "      <td>2.5</td>\n",
       "      <td>2</td>\n",
       "      <td>Mollusca</td>\n",
       "      <td>Gastropoda</td>\n",
       "      <td>Herbivore</td>\n",
       "      <td>20</td>\n",
       "      <td>2</td>\n",
       "      <td>6</td>\n",
       "    </tr>\n",
       "    <tr>\n",
       "      <th>21</th>\n",
       "      <td>25</td>\n",
       "      <td>scurria  plana</td>\n",
       "      <td>0.03000</td>\n",
       "      <td>M</td>\n",
       "      <td>9</td>\n",
       "      <td>low</td>\n",
       "      <td>1.0</td>\n",
       "      <td>1</td>\n",
       "      <td>low</td>\n",
       "      <td>1.0</td>\n",
       "      <td>1</td>\n",
       "      <td>Mollusca</td>\n",
       "      <td>Gastropoda</td>\n",
       "      <td>Herbivore</td>\n",
       "      <td>21</td>\n",
       "      <td>2</td>\n",
       "      <td>7</td>\n",
       "    </tr>\n",
       "    <tr>\n",
       "      <th>22</th>\n",
       "      <td>26</td>\n",
       "      <td>scurria scurra</td>\n",
       "      <td>1.27000</td>\n",
       "      <td>M</td>\n",
       "      <td>9</td>\n",
       "      <td>low</td>\n",
       "      <td>1.0</td>\n",
       "      <td>1</td>\n",
       "      <td>low</td>\n",
       "      <td>1.0</td>\n",
       "      <td>1</td>\n",
       "      <td>Mollusca</td>\n",
       "      <td>Gastropoda</td>\n",
       "      <td>Herbivore</td>\n",
       "      <td>22</td>\n",
       "      <td>2</td>\n",
       "      <td>7</td>\n",
       "    </tr>\n",
       "    <tr>\n",
       "      <th>23</th>\n",
       "      <td>27</td>\n",
       "      <td>scurria variabilis</td>\n",
       "      <td>0.30000</td>\n",
       "      <td>M</td>\n",
       "      <td>9</td>\n",
       "      <td>mid, low</td>\n",
       "      <td>1.5</td>\n",
       "      <td>2</td>\n",
       "      <td>mid</td>\n",
       "      <td>2.0</td>\n",
       "      <td>1</td>\n",
       "      <td>Mollusca</td>\n",
       "      <td>Gastropoda</td>\n",
       "      <td>Herbivore</td>\n",
       "      <td>23</td>\n",
       "      <td>2</td>\n",
       "      <td>6</td>\n",
       "    </tr>\n",
       "    <tr>\n",
       "      <th>24</th>\n",
       "      <td>28</td>\n",
       "      <td>scurria viridula</td>\n",
       "      <td>1.84000</td>\n",
       "      <td>M</td>\n",
       "      <td>9</td>\n",
       "      <td>high, mid, low</td>\n",
       "      <td>2.0</td>\n",
       "      <td>3</td>\n",
       "      <td>mid</td>\n",
       "      <td>2.0</td>\n",
       "      <td>1</td>\n",
       "      <td>Mollusca</td>\n",
       "      <td>Gastropoda</td>\n",
       "      <td>Herbivore</td>\n",
       "      <td>24</td>\n",
       "      <td>2</td>\n",
       "      <td>7</td>\n",
       "    </tr>\n",
       "    <tr>\n",
       "      <th>25</th>\n",
       "      <td>29</td>\n",
       "      <td>scurria zebrina</td>\n",
       "      <td>2.97000</td>\n",
       "      <td>M</td>\n",
       "      <td>14</td>\n",
       "      <td>high, mid</td>\n",
       "      <td>2.5</td>\n",
       "      <td>2</td>\n",
       "      <td>high</td>\n",
       "      <td>3.0</td>\n",
       "      <td>1</td>\n",
       "      <td>Mollusca</td>\n",
       "      <td>Gastropoda</td>\n",
       "      <td>Herbivore</td>\n",
       "      <td>25</td>\n",
       "      <td>2</td>\n",
       "      <td>7</td>\n",
       "    </tr>\n",
       "    <tr>\n",
       "      <th>26</th>\n",
       "      <td>30</td>\n",
       "      <td>siphonaria lesoni</td>\n",
       "      <td>0.01800</td>\n",
       "      <td>M</td>\n",
       "      <td>14</td>\n",
       "      <td>high, mid</td>\n",
       "      <td>2.5</td>\n",
       "      <td>2</td>\n",
       "      <td>high</td>\n",
       "      <td>3.0</td>\n",
       "      <td>1</td>\n",
       "      <td>Mollusca</td>\n",
       "      <td>Gastropoda</td>\n",
       "      <td>Herbivore</td>\n",
       "      <td>26</td>\n",
       "      <td>5</td>\n",
       "      <td>8</td>\n",
       "    </tr>\n",
       "    <tr>\n",
       "      <th>27</th>\n",
       "      <td>31</td>\n",
       "      <td>stichaster striatus</td>\n",
       "      <td>8.70000</td>\n",
       "      <td>M</td>\n",
       "      <td>1</td>\n",
       "      <td>low</td>\n",
       "      <td>1.0</td>\n",
       "      <td>1</td>\n",
       "      <td>low</td>\n",
       "      <td>1.0</td>\n",
       "      <td>1</td>\n",
       "      <td>Echinodermata</td>\n",
       "      <td>Asteroidea</td>\n",
       "      <td>Omnivore</td>\n",
       "      <td>27</td>\n",
       "      <td>0</td>\n",
       "      <td>2</td>\n",
       "    </tr>\n",
       "    <tr>\n",
       "      <th>28</th>\n",
       "      <td>32</td>\n",
       "      <td>tegula atra</td>\n",
       "      <td>1.00000</td>\n",
       "      <td>M</td>\n",
       "      <td>9</td>\n",
       "      <td>low</td>\n",
       "      <td>1.0</td>\n",
       "      <td>1</td>\n",
       "      <td>low</td>\n",
       "      <td>1.0</td>\n",
       "      <td>1</td>\n",
       "      <td>Mollusca</td>\n",
       "      <td>Gastropoda</td>\n",
       "      <td>Herbivore</td>\n",
       "      <td>28</td>\n",
       "      <td>2</td>\n",
       "      <td>2</td>\n",
       "    </tr>\n",
       "    <tr>\n",
       "      <th>29</th>\n",
       "      <td>33</td>\n",
       "      <td>Tonicia lineolata</td>\n",
       "      <td>6.14000</td>\n",
       "      <td>M</td>\n",
       "      <td>14</td>\n",
       "      <td>low</td>\n",
       "      <td>1.0</td>\n",
       "      <td>1</td>\n",
       "      <td>low</td>\n",
       "      <td>1.0</td>\n",
       "      <td>1</td>\n",
       "      <td>Mollusca</td>\n",
       "      <td>Polyplacophora</td>\n",
       "      <td>Herbivore</td>\n",
       "      <td>29</td>\n",
       "      <td>5</td>\n",
       "      <td>4</td>\n",
       "    </tr>\n",
       "    <tr>\n",
       "      <th>...</th>\n",
       "      <td>...</td>\n",
       "      <td>...</td>\n",
       "      <td>...</td>\n",
       "      <td>...</td>\n",
       "      <td>...</td>\n",
       "      <td>...</td>\n",
       "      <td>...</td>\n",
       "      <td>...</td>\n",
       "      <td>...</td>\n",
       "      <td>...</td>\n",
       "      <td>...</td>\n",
       "      <td>...</td>\n",
       "      <td>...</td>\n",
       "      <td>...</td>\n",
       "      <td>...</td>\n",
       "      <td>...</td>\n",
       "      <td>...</td>\n",
       "    </tr>\n",
       "    <tr>\n",
       "      <th>76</th>\n",
       "      <td>81</td>\n",
       "      <td>phymactis spp.</td>\n",
       "      <td>11.91000</td>\n",
       "      <td>S</td>\n",
       "      <td>2</td>\n",
       "      <td>mid, low</td>\n",
       "      <td>1.5</td>\n",
       "      <td>2</td>\n",
       "      <td>mid, low</td>\n",
       "      <td>1.5</td>\n",
       "      <td>2</td>\n",
       "      <td>Cnidaria</td>\n",
       "      <td>Anthozoa</td>\n",
       "      <td>Scavenger</td>\n",
       "      <td>76</td>\n",
       "      <td>0</td>\n",
       "      <td>0</td>\n",
       "    </tr>\n",
       "    <tr>\n",
       "      <th>77</th>\n",
       "      <td>82</td>\n",
       "      <td>plocamium cartilageneum</td>\n",
       "      <td>5.00000</td>\n",
       "      <td>S</td>\n",
       "      <td>12</td>\n",
       "      <td>low</td>\n",
       "      <td>1.0</td>\n",
       "      <td>1</td>\n",
       "      <td>low</td>\n",
       "      <td>1.0</td>\n",
       "      <td>1</td>\n",
       "      <td>Algae</td>\n",
       "      <td>Rhodophyta</td>\n",
       "      <td>Corticated</td>\n",
       "      <td>77</td>\n",
       "      <td>6</td>\n",
       "      <td>1</td>\n",
       "    </tr>\n",
       "    <tr>\n",
       "      <th>78</th>\n",
       "      <td>83</td>\n",
       "      <td>polysiphonia_spp</td>\n",
       "      <td>0.88000</td>\n",
       "      <td>S</td>\n",
       "      <td>11</td>\n",
       "      <td>mid, low</td>\n",
       "      <td>1.5</td>\n",
       "      <td>2</td>\n",
       "      <td>low</td>\n",
       "      <td>1.0</td>\n",
       "      <td>1</td>\n",
       "      <td>Algae</td>\n",
       "      <td>Rhodophyta</td>\n",
       "      <td>Ephemeral</td>\n",
       "      <td>78</td>\n",
       "      <td>8</td>\n",
       "      <td>7</td>\n",
       "    </tr>\n",
       "    <tr>\n",
       "      <th>79</th>\n",
       "      <td>84</td>\n",
       "      <td>pyropia spp</td>\n",
       "      <td>1.21000</td>\n",
       "      <td>S</td>\n",
       "      <td>10</td>\n",
       "      <td>high</td>\n",
       "      <td>3.0</td>\n",
       "      <td>1</td>\n",
       "      <td>high</td>\n",
       "      <td>3.0</td>\n",
       "      <td>1</td>\n",
       "      <td>Algae</td>\n",
       "      <td>Rhodophyta</td>\n",
       "      <td>Ephemeral</td>\n",
       "      <td>79</td>\n",
       "      <td>8</td>\n",
       "      <td>3</td>\n",
       "    </tr>\n",
       "    <tr>\n",
       "      <th>80</th>\n",
       "      <td>85</td>\n",
       "      <td>prionitis spp</td>\n",
       "      <td>2.80000</td>\n",
       "      <td>S</td>\n",
       "      <td>12</td>\n",
       "      <td>mid, low</td>\n",
       "      <td>1.5</td>\n",
       "      <td>2</td>\n",
       "      <td>mid, low</td>\n",
       "      <td>1.5</td>\n",
       "      <td>2</td>\n",
       "      <td>Algae</td>\n",
       "      <td>Rhodophyta</td>\n",
       "      <td>Corticated</td>\n",
       "      <td>80</td>\n",
       "      <td>6</td>\n",
       "      <td>1</td>\n",
       "    </tr>\n",
       "    <tr>\n",
       "      <th>81</th>\n",
       "      <td>86</td>\n",
       "      <td>pyura chilensis</td>\n",
       "      <td>2.91000</td>\n",
       "      <td>S</td>\n",
       "      <td>13</td>\n",
       "      <td>mid, low</td>\n",
       "      <td>1.5</td>\n",
       "      <td>2</td>\n",
       "      <td>low</td>\n",
       "      <td>1.0</td>\n",
       "      <td>1</td>\n",
       "      <td>Chordata</td>\n",
       "      <td>Ascidiacea</td>\n",
       "      <td>FilterFeeder</td>\n",
       "      <td>81</td>\n",
       "      <td>1</td>\n",
       "      <td>0</td>\n",
       "    </tr>\n",
       "    <tr>\n",
       "      <th>82</th>\n",
       "      <td>87</td>\n",
       "      <td>ralfsia californica</td>\n",
       "      <td>0.05000</td>\n",
       "      <td>S</td>\n",
       "      <td>12</td>\n",
       "      <td>mid, low</td>\n",
       "      <td>1.5</td>\n",
       "      <td>2</td>\n",
       "      <td>low</td>\n",
       "      <td>1.0</td>\n",
       "      <td>1</td>\n",
       "      <td>Algae</td>\n",
       "      <td>Phaeophyta</td>\n",
       "      <td>Crustose</td>\n",
       "      <td>82</td>\n",
       "      <td>6</td>\n",
       "      <td>1</td>\n",
       "    </tr>\n",
       "    <tr>\n",
       "      <th>83</th>\n",
       "      <td>88</td>\n",
       "      <td>Rhizoclonium ambiguum</td>\n",
       "      <td>1.30000</td>\n",
       "      <td>S</td>\n",
       "      <td>11</td>\n",
       "      <td>mid, low</td>\n",
       "      <td>1.5</td>\n",
       "      <td>2</td>\n",
       "      <td>low</td>\n",
       "      <td>1.0</td>\n",
       "      <td>1</td>\n",
       "      <td>Algae</td>\n",
       "      <td>Chaetophyta</td>\n",
       "      <td>Ephemeral</td>\n",
       "      <td>83</td>\n",
       "      <td>8</td>\n",
       "      <td>7</td>\n",
       "    </tr>\n",
       "    <tr>\n",
       "      <th>84</th>\n",
       "      <td>89</td>\n",
       "      <td>Gastroclonium cyclindricum</td>\n",
       "      <td>2.00000</td>\n",
       "      <td>S</td>\n",
       "      <td>11</td>\n",
       "      <td>mid, low</td>\n",
       "      <td>1.5</td>\n",
       "      <td>2</td>\n",
       "      <td>low</td>\n",
       "      <td>1.0</td>\n",
       "      <td>1</td>\n",
       "      <td>Algae</td>\n",
       "      <td>Rhodophyta</td>\n",
       "      <td>Corticated</td>\n",
       "      <td>84</td>\n",
       "      <td>8</td>\n",
       "      <td>4</td>\n",
       "    </tr>\n",
       "    <tr>\n",
       "      <th>85</th>\n",
       "      <td>90</td>\n",
       "      <td>rhodymenia sp</td>\n",
       "      <td>2.47000</td>\n",
       "      <td>S</td>\n",
       "      <td>12</td>\n",
       "      <td>mid, low</td>\n",
       "      <td>1.5</td>\n",
       "      <td>2</td>\n",
       "      <td>low</td>\n",
       "      <td>1.0</td>\n",
       "      <td>1</td>\n",
       "      <td>Algae</td>\n",
       "      <td>Rhodophyta</td>\n",
       "      <td>Corticated</td>\n",
       "      <td>85</td>\n",
       "      <td>6</td>\n",
       "      <td>1</td>\n",
       "    </tr>\n",
       "    <tr>\n",
       "      <th>86</th>\n",
       "      <td>91</td>\n",
       "      <td>sarcothalia</td>\n",
       "      <td>2.50000</td>\n",
       "      <td>S</td>\n",
       "      <td>11</td>\n",
       "      <td>mid, low</td>\n",
       "      <td>1.5</td>\n",
       "      <td>2</td>\n",
       "      <td>low</td>\n",
       "      <td>1.0</td>\n",
       "      <td>1</td>\n",
       "      <td>Algae</td>\n",
       "      <td>Rhodophyta</td>\n",
       "      <td>Corticated</td>\n",
       "      <td>86</td>\n",
       "      <td>8</td>\n",
       "      <td>4</td>\n",
       "    </tr>\n",
       "    <tr>\n",
       "      <th>87</th>\n",
       "      <td>92</td>\n",
       "      <td>schottera nicaensis</td>\n",
       "      <td>2.53000</td>\n",
       "      <td>S</td>\n",
       "      <td>12</td>\n",
       "      <td>mid, low</td>\n",
       "      <td>1.5</td>\n",
       "      <td>2</td>\n",
       "      <td>low</td>\n",
       "      <td>1.0</td>\n",
       "      <td>1</td>\n",
       "      <td>Algae</td>\n",
       "      <td>Rhodophyta</td>\n",
       "      <td>Corticated</td>\n",
       "      <td>87</td>\n",
       "      <td>6</td>\n",
       "      <td>4</td>\n",
       "    </tr>\n",
       "    <tr>\n",
       "      <th>88</th>\n",
       "      <td>93</td>\n",
       "      <td>schyzimenia doryophora</td>\n",
       "      <td>3.00000</td>\n",
       "      <td>S</td>\n",
       "      <td>12</td>\n",
       "      <td>mid, low</td>\n",
       "      <td>1.5</td>\n",
       "      <td>2</td>\n",
       "      <td>low</td>\n",
       "      <td>1.0</td>\n",
       "      <td>1</td>\n",
       "      <td>Algae</td>\n",
       "      <td>Rhodophyta</td>\n",
       "      <td>Corticated</td>\n",
       "      <td>88</td>\n",
       "      <td>6</td>\n",
       "      <td>1</td>\n",
       "    </tr>\n",
       "    <tr>\n",
       "      <th>89</th>\n",
       "      <td>94</td>\n",
       "      <td>scythosiphon lomentaria</td>\n",
       "      <td>1.50000</td>\n",
       "      <td>S</td>\n",
       "      <td>11</td>\n",
       "      <td>mid, low</td>\n",
       "      <td>1.5</td>\n",
       "      <td>2</td>\n",
       "      <td>mid</td>\n",
       "      <td>2.0</td>\n",
       "      <td>1</td>\n",
       "      <td>Algae</td>\n",
       "      <td>Rhodophyta</td>\n",
       "      <td>Ephemeral</td>\n",
       "      <td>89</td>\n",
       "      <td>8</td>\n",
       "      <td>7</td>\n",
       "    </tr>\n",
       "    <tr>\n",
       "      <th>90</th>\n",
       "      <td>95</td>\n",
       "      <td>semimytilus algosus</td>\n",
       "      <td>0.04000</td>\n",
       "      <td>S</td>\n",
       "      <td>5</td>\n",
       "      <td>mid, low</td>\n",
       "      <td>1.5</td>\n",
       "      <td>2</td>\n",
       "      <td>mid, low</td>\n",
       "      <td>1.5</td>\n",
       "      <td>2</td>\n",
       "      <td>Mollusca</td>\n",
       "      <td>Bivalvia</td>\n",
       "      <td>FilterFeeder</td>\n",
       "      <td>90</td>\n",
       "      <td>3</td>\n",
       "      <td>0</td>\n",
       "    </tr>\n",
       "    <tr>\n",
       "      <th>91</th>\n",
       "      <td>96</td>\n",
       "      <td>trematocarpus</td>\n",
       "      <td>3.33000</td>\n",
       "      <td>S</td>\n",
       "      <td>12</td>\n",
       "      <td>mid, low</td>\n",
       "      <td>1.5</td>\n",
       "      <td>2</td>\n",
       "      <td>low</td>\n",
       "      <td>1.0</td>\n",
       "      <td>1</td>\n",
       "      <td>Algae</td>\n",
       "      <td>Rhodophyta</td>\n",
       "      <td>Corticated</td>\n",
       "      <td>91</td>\n",
       "      <td>6</td>\n",
       "      <td>1</td>\n",
       "    </tr>\n",
       "    <tr>\n",
       "      <th>92</th>\n",
       "      <td>97</td>\n",
       "      <td>ulva rigida</td>\n",
       "      <td>2.33000</td>\n",
       "      <td>S</td>\n",
       "      <td>11</td>\n",
       "      <td>mid, low</td>\n",
       "      <td>1.5</td>\n",
       "      <td>2</td>\n",
       "      <td>mid</td>\n",
       "      <td>2.0</td>\n",
       "      <td>1</td>\n",
       "      <td>Algae</td>\n",
       "      <td>Chaetophyta</td>\n",
       "      <td>Ephemeral</td>\n",
       "      <td>92</td>\n",
       "      <td>8</td>\n",
       "      <td>8</td>\n",
       "    </tr>\n",
       "    <tr>\n",
       "      <th>93</th>\n",
       "      <td>98</td>\n",
       "      <td>ulvella spp.</td>\n",
       "      <td>0.00200</td>\n",
       "      <td>S</td>\n",
       "      <td>11</td>\n",
       "      <td>high, mid, low</td>\n",
       "      <td>2.0</td>\n",
       "      <td>3</td>\n",
       "      <td>high, mid, low</td>\n",
       "      <td>2.0</td>\n",
       "      <td>3</td>\n",
       "      <td>Algae</td>\n",
       "      <td>Chaetophyta</td>\n",
       "      <td>Ephemeral</td>\n",
       "      <td>93</td>\n",
       "      <td>8</td>\n",
       "      <td>7</td>\n",
       "    </tr>\n",
       "    <tr>\n",
       "      <th>94</th>\n",
       "      <td>99</td>\n",
       "      <td>plankton</td>\n",
       "      <td>0.00001</td>\n",
       "      <td>NaN</td>\n",
       "      <td>4</td>\n",
       "      <td>high, mid, low</td>\n",
       "      <td>2.0</td>\n",
       "      <td>3</td>\n",
       "      <td>high, mid, low</td>\n",
       "      <td>2.0</td>\n",
       "      <td>3</td>\n",
       "      <td>NaN</td>\n",
       "      <td>NaN</td>\n",
       "      <td>NaN</td>\n",
       "      <td>94</td>\n",
       "      <td>1</td>\n",
       "      <td>9</td>\n",
       "    </tr>\n",
       "    <tr>\n",
       "      <th>95</th>\n",
       "      <td>100</td>\n",
       "      <td>gulls</td>\n",
       "      <td>500.00000</td>\n",
       "      <td>M</td>\n",
       "      <td>1</td>\n",
       "      <td>high, mid, low</td>\n",
       "      <td>2.0</td>\n",
       "      <td>3</td>\n",
       "      <td>high, mid, low</td>\n",
       "      <td>2.0</td>\n",
       "      <td>3</td>\n",
       "      <td>Chordata</td>\n",
       "      <td>Aves</td>\n",
       "      <td>Predators</td>\n",
       "      <td>95</td>\n",
       "      <td>0</td>\n",
       "      <td>9</td>\n",
       "    </tr>\n",
       "    <tr>\n",
       "      <th>96</th>\n",
       "      <td>101</td>\n",
       "      <td>cinclodes nigrofumosus</td>\n",
       "      <td>280.00000</td>\n",
       "      <td>M</td>\n",
       "      <td>1</td>\n",
       "      <td>high, mid, low</td>\n",
       "      <td>2.0</td>\n",
       "      <td>3</td>\n",
       "      <td>high, mid, low</td>\n",
       "      <td>2.0</td>\n",
       "      <td>3</td>\n",
       "      <td>Chordata</td>\n",
       "      <td>Aves</td>\n",
       "      <td>Predators</td>\n",
       "      <td>96</td>\n",
       "      <td>0</td>\n",
       "      <td>9</td>\n",
       "    </tr>\n",
       "    <tr>\n",
       "      <th>97</th>\n",
       "      <td>102</td>\n",
       "      <td>Echinolittorina peruviana</td>\n",
       "      <td>0.01290</td>\n",
       "      <td>M</td>\n",
       "      <td>4</td>\n",
       "      <td>high</td>\n",
       "      <td>3.0</td>\n",
       "      <td>1</td>\n",
       "      <td>high</td>\n",
       "      <td>3.0</td>\n",
       "      <td>1</td>\n",
       "      <td>Mollusca</td>\n",
       "      <td>Gastropoda</td>\n",
       "      <td>Herbivore</td>\n",
       "      <td>97</td>\n",
       "      <td>7</td>\n",
       "      <td>7</td>\n",
       "    </tr>\n",
       "    <tr>\n",
       "      <th>98</th>\n",
       "      <td>103</td>\n",
       "      <td>austrolittorina araucana</td>\n",
       "      <td>0.00680</td>\n",
       "      <td>M</td>\n",
       "      <td>4</td>\n",
       "      <td>high</td>\n",
       "      <td>3.0</td>\n",
       "      <td>1</td>\n",
       "      <td>high</td>\n",
       "      <td>3.0</td>\n",
       "      <td>1</td>\n",
       "      <td>Mollusca</td>\n",
       "      <td>Gastropoda</td>\n",
       "      <td>Herbivore</td>\n",
       "      <td>98</td>\n",
       "      <td>7</td>\n",
       "      <td>7</td>\n",
       "    </tr>\n",
       "    <tr>\n",
       "      <th>99</th>\n",
       "      <td>104</td>\n",
       "      <td>onchidella sp.</td>\n",
       "      <td>0.00770</td>\n",
       "      <td>M</td>\n",
       "      <td>4</td>\n",
       "      <td>high, mid, low</td>\n",
       "      <td>2.0</td>\n",
       "      <td>3</td>\n",
       "      <td>high</td>\n",
       "      <td>2.0</td>\n",
       "      <td>1</td>\n",
       "      <td>Mollusca</td>\n",
       "      <td>Gastropoda</td>\n",
       "      <td>Herbivore</td>\n",
       "      <td>99</td>\n",
       "      <td>7</td>\n",
       "      <td>7</td>\n",
       "    </tr>\n",
       "    <tr>\n",
       "      <th>100</th>\n",
       "      <td>105</td>\n",
       "      <td>Allelopetrolisthes punctatus</td>\n",
       "      <td>2.00000</td>\n",
       "      <td>M</td>\n",
       "      <td>4</td>\n",
       "      <td>low</td>\n",
       "      <td>1.0</td>\n",
       "      <td>1</td>\n",
       "      <td>low</td>\n",
       "      <td>1.0</td>\n",
       "      <td>1</td>\n",
       "      <td>Arthropoda</td>\n",
       "      <td>Crustacae</td>\n",
       "      <td>FilterFeeder</td>\n",
       "      <td>100</td>\n",
       "      <td>1</td>\n",
       "      <td>9</td>\n",
       "    </tr>\n",
       "    <tr>\n",
       "      <th>101</th>\n",
       "      <td>106</td>\n",
       "      <td>petrolisthes spinifrons</td>\n",
       "      <td>2.00000</td>\n",
       "      <td>M</td>\n",
       "      <td>4</td>\n",
       "      <td>low</td>\n",
       "      <td>1.0</td>\n",
       "      <td>1</td>\n",
       "      <td>low</td>\n",
       "      <td>1.0</td>\n",
       "      <td>1</td>\n",
       "      <td>Arthropoda</td>\n",
       "      <td>Crustacae</td>\n",
       "      <td>FilterFeeder</td>\n",
       "      <td>101</td>\n",
       "      <td>1</td>\n",
       "      <td>9</td>\n",
       "    </tr>\n",
       "    <tr>\n",
       "      <th>102</th>\n",
       "      <td>107</td>\n",
       "      <td>petrolisthes angulosus</td>\n",
       "      <td>2.00000</td>\n",
       "      <td>M</td>\n",
       "      <td>4</td>\n",
       "      <td>mid, low</td>\n",
       "      <td>1.5</td>\n",
       "      <td>2</td>\n",
       "      <td>mid, low</td>\n",
       "      <td>1.5</td>\n",
       "      <td>2</td>\n",
       "      <td>Arthropoda</td>\n",
       "      <td>Crustacae</td>\n",
       "      <td>FilterFeeder</td>\n",
       "      <td>102</td>\n",
       "      <td>1</td>\n",
       "      <td>9</td>\n",
       "    </tr>\n",
       "    <tr>\n",
       "      <th>103</th>\n",
       "      <td>108</td>\n",
       "      <td>petrolisthes tuberculatus</td>\n",
       "      <td>2.00000</td>\n",
       "      <td>M</td>\n",
       "      <td>4</td>\n",
       "      <td>mid, low</td>\n",
       "      <td>1.5</td>\n",
       "      <td>2</td>\n",
       "      <td>mid, low</td>\n",
       "      <td>1.5</td>\n",
       "      <td>2</td>\n",
       "      <td>Arthropoda</td>\n",
       "      <td>Crustacae</td>\n",
       "      <td>FilterFeeder</td>\n",
       "      <td>103</td>\n",
       "      <td>1</td>\n",
       "      <td>9</td>\n",
       "    </tr>\n",
       "    <tr>\n",
       "      <th>104</th>\n",
       "      <td>109</td>\n",
       "      <td>petrolisthes tuberculosus</td>\n",
       "      <td>2.00000</td>\n",
       "      <td>M</td>\n",
       "      <td>4</td>\n",
       "      <td>low</td>\n",
       "      <td>1.0</td>\n",
       "      <td>1</td>\n",
       "      <td>low</td>\n",
       "      <td>1.0</td>\n",
       "      <td>1</td>\n",
       "      <td>Arthropoda</td>\n",
       "      <td>Crustacae</td>\n",
       "      <td>FilterFeeder</td>\n",
       "      <td>104</td>\n",
       "      <td>1</td>\n",
       "      <td>9</td>\n",
       "    </tr>\n",
       "    <tr>\n",
       "      <th>105</th>\n",
       "      <td>110</td>\n",
       "      <td>trimusculus peruvianus</td>\n",
       "      <td>1.00000</td>\n",
       "      <td>M</td>\n",
       "      <td>4</td>\n",
       "      <td>mid, low</td>\n",
       "      <td>1.5</td>\n",
       "      <td>2</td>\n",
       "      <td>mid, low</td>\n",
       "      <td>1.5</td>\n",
       "      <td>2</td>\n",
       "      <td>Mollusca</td>\n",
       "      <td>Gastropoda</td>\n",
       "      <td>Herbivore</td>\n",
       "      <td>105</td>\n",
       "      <td>7</td>\n",
       "      <td>6</td>\n",
       "    </tr>\n",
       "  </tbody>\n",
       "</table>\n",
       "<p>106 rows × 17 columns</p>\n",
       "</div>"
      ],
      "text/plain": [
       "     Spec                 Species names   BodyMass sessile/mobile  Cluster  \\\n",
       "0       1             acanthina monodon    8.00000              M        4   \n",
       "1       2            acanthocyclus gayi    6.01000              M        1   \n",
       "2       3        acanthocyclus hassleri    6.65000              M        1   \n",
       "3       4        acanthopleura echinata    5.10000              M        7   \n",
       "4       5        chaetopleura peruviana    0.18000              M        7   \n",
       "5       6             chiton  cummingsi    8.23000              M        7   \n",
       "6       7              chiton  granosus    2.30000              M        7   \n",
       "7       8                 chiton  latus    0.06000              M        7   \n",
       "8       9              lottia  orbignyi    0.02000              M        9   \n",
       "9      10       concholepas concholepas    2.30000              M        1   \n",
       "10     11           enoplochiton  niger    6.00000              M        7   \n",
       "11     12           fissurella  costata   49.03000              M        7   \n",
       "12     13            fissurella  crassa   15.20000              M        7   \n",
       "13     14          fissurella  cummingi   18.00000              M       14   \n",
       "14     15           fissurella  limbata   16.45000              M        7   \n",
       "15     16            fissurella  maxima   11.00000              M       14   \n",
       "16     17             fissurella  picta   15.00000              M       14   \n",
       "17     18           fissurella  puhlcra   15.00000              M       14   \n",
       "18     19          heliaster helianthus  173.46000              M        1   \n",
       "19     20             scurria  araucana    0.02000              M        9   \n",
       "20     22            scurria  ceciliana    0.04500              M        9   \n",
       "21     25                scurria  plana    0.03000              M        9   \n",
       "22     26                scurria scurra    1.27000              M        9   \n",
       "23     27            scurria variabilis    0.30000              M        9   \n",
       "24     28              scurria viridula    1.84000              M        9   \n",
       "25     29               scurria zebrina    2.97000              M       14   \n",
       "26     30             siphonaria lesoni    0.01800              M       14   \n",
       "27     31           stichaster striatus    8.70000              M        1   \n",
       "28     32                   tegula atra    1.00000              M        9   \n",
       "29     33             Tonicia lineolata    6.14000              M       14   \n",
       "..    ...                           ...        ...            ...      ...   \n",
       "76     81                phymactis spp.   11.91000              S        2   \n",
       "77     82       plocamium cartilageneum    5.00000              S       12   \n",
       "78     83              polysiphonia_spp    0.88000              S       11   \n",
       "79     84                   pyropia spp    1.21000              S       10   \n",
       "80     85                 prionitis spp    2.80000              S       12   \n",
       "81     86               pyura chilensis    2.91000              S       13   \n",
       "82     87           ralfsia californica    0.05000              S       12   \n",
       "83     88         Rhizoclonium ambiguum    1.30000              S       11   \n",
       "84     89    Gastroclonium cyclindricum    2.00000              S       11   \n",
       "85     90                 rhodymenia sp    2.47000              S       12   \n",
       "86     91                   sarcothalia    2.50000              S       11   \n",
       "87     92           schottera nicaensis    2.53000              S       12   \n",
       "88     93        schyzimenia doryophora    3.00000              S       12   \n",
       "89     94       scythosiphon lomentaria    1.50000              S       11   \n",
       "90     95           semimytilus algosus    0.04000              S        5   \n",
       "91     96                 trematocarpus    3.33000              S       12   \n",
       "92     97                   ulva rigida    2.33000              S       11   \n",
       "93     98                  ulvella spp.    0.00200              S       11   \n",
       "94     99                      plankton    0.00001            NaN        4   \n",
       "95    100                         gulls  500.00000              M        1   \n",
       "96    101        cinclodes nigrofumosus  280.00000              M        1   \n",
       "97    102     Echinolittorina peruviana    0.01290              M        4   \n",
       "98    103      austrolittorina araucana    0.00680              M        4   \n",
       "99    104                onchidella sp.    0.00770              M        4   \n",
       "100   105  Allelopetrolisthes punctatus    2.00000              M        4   \n",
       "101   106       petrolisthes spinifrons    2.00000              M        4   \n",
       "102   107        petrolisthes angulosus    2.00000              M        4   \n",
       "103   108     petrolisthes tuberculatus    2.00000              M        4   \n",
       "104   109     petrolisthes tuberculosus    2.00000              M        4   \n",
       "105   110        trimusculus peruvianus    1.00000              M        4   \n",
       "\n",
       "    Shore Height 1 conservative  ShoreHt_C_Ordinal  ShoreHt_C_Breadth  \\\n",
       "0                      mid, low                1.5                  2   \n",
       "1                      mid, low                1.5                  2   \n",
       "2                      mid, low                1.5                  2   \n",
       "3                           low                1.0                  1   \n",
       "4                           low                1.0                  1   \n",
       "5                           low                1.0                  1   \n",
       "6                      mid, low                1.5                  2   \n",
       "7                      mid, low                1.5                  2   \n",
       "8                     high, mid                2.5                  2   \n",
       "9                      mid, low                1.5                  2   \n",
       "10                          low                1.0                  1   \n",
       "11                          low                1.0                  1   \n",
       "12                     mid, low                1.5                  2   \n",
       "13                          low                1.0                  1   \n",
       "14                          low                1.0                  1   \n",
       "15                          low                1.0                  1   \n",
       "16                          low                1.0                  1   \n",
       "17                          low                1.0                  1   \n",
       "18                     mid, low                1.5                  2   \n",
       "19               high, mid, low                2.0                  3   \n",
       "20                    high, mid                2.5                  2   \n",
       "21                          low                1.0                  1   \n",
       "22                          low                1.0                  1   \n",
       "23                     mid, low                1.5                  2   \n",
       "24               high, mid, low                2.0                  3   \n",
       "25                    high, mid                2.5                  2   \n",
       "26                    high, mid                2.5                  2   \n",
       "27                          low                1.0                  1   \n",
       "28                          low                1.0                  1   \n",
       "29                          low                1.0                  1   \n",
       "..                          ...                ...                ...   \n",
       "76                     mid, low                1.5                  2   \n",
       "77                          low                1.0                  1   \n",
       "78                     mid, low                1.5                  2   \n",
       "79                         high                3.0                  1   \n",
       "80                     mid, low                1.5                  2   \n",
       "81                     mid, low                1.5                  2   \n",
       "82                     mid, low                1.5                  2   \n",
       "83                     mid, low                1.5                  2   \n",
       "84                     mid, low                1.5                  2   \n",
       "85                     mid, low                1.5                  2   \n",
       "86                     mid, low                1.5                  2   \n",
       "87                     mid, low                1.5                  2   \n",
       "88                     mid, low                1.5                  2   \n",
       "89                     mid, low                1.5                  2   \n",
       "90                     mid, low                1.5                  2   \n",
       "91                     mid, low                1.5                  2   \n",
       "92                     mid, low                1.5                  2   \n",
       "93               high, mid, low                2.0                  3   \n",
       "94               high, mid, low                2.0                  3   \n",
       "95               high, mid, low                2.0                  3   \n",
       "96               high, mid, low                2.0                  3   \n",
       "97                         high                3.0                  1   \n",
       "98                         high                3.0                  1   \n",
       "99               high, mid, low                2.0                  3   \n",
       "100                         low                1.0                  1   \n",
       "101                         low                1.0                  1   \n",
       "102                    mid, low                1.5                  2   \n",
       "103                    mid, low                1.5                  2   \n",
       "104                         low                1.0                  1   \n",
       "105                    mid, low                1.5                  2   \n",
       "\n",
       "    Shore Height 2 restrictive  ShoreHt_R_Ordinal  ShortHt_R_Breadth  \\\n",
       "0                          low                1.0                  1   \n",
       "1                     mid, low                1.5                  2   \n",
       "2                          mid                2.0                  1   \n",
       "3                          low                1.0                  1   \n",
       "4                          low                1.0                  1   \n",
       "5                          low                1.0                  1   \n",
       "6                          mid                2.0                  1   \n",
       "7                          mid                2.0                  1   \n",
       "8                    high, mid                2.5                  2   \n",
       "9                          low                1.0                  1   \n",
       "10                         low                1.0                  1   \n",
       "11                         low                1.0                  1   \n",
       "12                         mid                2.0                  1   \n",
       "13                         low                1.0                  1   \n",
       "14                         low                1.0                  1   \n",
       "15                         low                1.0                  1   \n",
       "16                         low                1.0                  1   \n",
       "17                         low                1.0                  1   \n",
       "18                         low                1.0                  1   \n",
       "19                   high, mid                2.5                  2   \n",
       "20                   high, mid                2.5                  2   \n",
       "21                         low                1.0                  1   \n",
       "22                         low                1.0                  1   \n",
       "23                         mid                2.0                  1   \n",
       "24                         mid                2.0                  1   \n",
       "25                        high                3.0                  1   \n",
       "26                        high                3.0                  1   \n",
       "27                         low                1.0                  1   \n",
       "28                         low                1.0                  1   \n",
       "29                         low                1.0                  1   \n",
       "..                         ...                ...                ...   \n",
       "76                    mid, low                1.5                  2   \n",
       "77                         low                1.0                  1   \n",
       "78                         low                1.0                  1   \n",
       "79                        high                3.0                  1   \n",
       "80                    mid, low                1.5                  2   \n",
       "81                         low                1.0                  1   \n",
       "82                         low                1.0                  1   \n",
       "83                         low                1.0                  1   \n",
       "84                         low                1.0                  1   \n",
       "85                         low                1.0                  1   \n",
       "86                         low                1.0                  1   \n",
       "87                         low                1.0                  1   \n",
       "88                         low                1.0                  1   \n",
       "89                         mid                2.0                  1   \n",
       "90                    mid, low                1.5                  2   \n",
       "91                         low                1.0                  1   \n",
       "92                         mid                2.0                  1   \n",
       "93              high, mid, low                2.0                  3   \n",
       "94              high, mid, low                2.0                  3   \n",
       "95              high, mid, low                2.0                  3   \n",
       "96              high, mid, low                2.0                  3   \n",
       "97                        high                3.0                  1   \n",
       "98                        high                3.0                  1   \n",
       "99                        high                2.0                  1   \n",
       "100                        low                1.0                  1   \n",
       "101                        low                1.0                  1   \n",
       "102                   mid, low                1.5                  2   \n",
       "103                   mid, low                1.5                  2   \n",
       "104                        low                1.0                  1   \n",
       "105                   mid, low                1.5                  2   \n",
       "\n",
       "           Phyllum      subphyllum       trophic  index  clust_id  lv  \n",
       "0         Mollusca      Gastropoda      Predator      0         7   0  \n",
       "1       Arthropoda       Crustacae      Predator      1         0   0  \n",
       "2       Arthropoda       Crustacae      Predator      2         0   0  \n",
       "3         Mollusca  Polyplacophora     Herbivore      3         9   1  \n",
       "4         Mollusca  Polyplacophora     Herbivore      4         9   1  \n",
       "5         Mollusca  Polyplacophora     Herbivore      5         9   1  \n",
       "6         Mollusca  Polyplacophora     Herbivore      6         9   1  \n",
       "7         Mollusca  Polyplacophora     Herbivore      7         9   1  \n",
       "8         Mollusca      Gastropoda     Herbivore      8         2   0  \n",
       "9         Mollusca      Gastropoda      Predator      9         0   0  \n",
       "10        Mollusca  Polyplacophora     Herbivore     10         9   2  \n",
       "11        Mollusca      Gastropoda     Herbivore     11         9   3  \n",
       "12        Mollusca      Gastropoda     Herbivore     12         9   1  \n",
       "13        Mollusca      Gastropoda     Herbivore     13         5   4  \n",
       "14        Mollusca      Gastropoda     Herbivore     14         9   5  \n",
       "15        Mollusca      Gastropoda     Herbivore     15         5   4  \n",
       "16        Mollusca      Gastropoda     Herbivore     16         5   4  \n",
       "17        Mollusca      Gastropoda     Herbivore     17         5   4  \n",
       "18   Echinodermata      Asteroidea      Predator     18         0   0  \n",
       "19        Mollusca      Gastropoda     Herbivore     19         2   0  \n",
       "20        Mollusca      Gastropoda     Herbivore     20         2   6  \n",
       "21        Mollusca      Gastropoda     Herbivore     21         2   7  \n",
       "22        Mollusca      Gastropoda     Herbivore     22         2   7  \n",
       "23        Mollusca      Gastropoda     Herbivore     23         2   6  \n",
       "24        Mollusca      Gastropoda     Herbivore     24         2   7  \n",
       "25        Mollusca      Gastropoda     Herbivore     25         2   7  \n",
       "26        Mollusca      Gastropoda     Herbivore     26         5   8  \n",
       "27   Echinodermata      Asteroidea      Omnivore     27         0   2  \n",
       "28        Mollusca      Gastropoda     Herbivore     28         2   2  \n",
       "29        Mollusca  Polyplacophora     Herbivore     29         5   4  \n",
       "..             ...             ...           ...    ...       ...  ..  \n",
       "76        Cnidaria        Anthozoa     Scavenger     76         0   0  \n",
       "77           Algae      Rhodophyta    Corticated     77         6   1  \n",
       "78           Algae      Rhodophyta     Ephemeral     78         8   7  \n",
       "79           Algae      Rhodophyta     Ephemeral     79         8   3  \n",
       "80           Algae      Rhodophyta    Corticated     80         6   1  \n",
       "81        Chordata      Ascidiacea  FilterFeeder     81         1   0  \n",
       "82           Algae      Phaeophyta      Crustose     82         6   1  \n",
       "83           Algae     Chaetophyta     Ephemeral     83         8   7  \n",
       "84           Algae      Rhodophyta    Corticated     84         8   4  \n",
       "85           Algae      Rhodophyta    Corticated     85         6   1  \n",
       "86           Algae      Rhodophyta    Corticated     86         8   4  \n",
       "87           Algae      Rhodophyta    Corticated     87         6   4  \n",
       "88           Algae      Rhodophyta    Corticated     88         6   1  \n",
       "89           Algae      Rhodophyta     Ephemeral     89         8   7  \n",
       "90        Mollusca        Bivalvia  FilterFeeder     90         3   0  \n",
       "91           Algae      Rhodophyta    Corticated     91         6   1  \n",
       "92           Algae     Chaetophyta     Ephemeral     92         8   8  \n",
       "93           Algae     Chaetophyta     Ephemeral     93         8   7  \n",
       "94             NaN             NaN           NaN     94         1   9  \n",
       "95        Chordata            Aves     Predators     95         0   9  \n",
       "96        Chordata            Aves     Predators     96         0   9  \n",
       "97        Mollusca      Gastropoda     Herbivore     97         7   7  \n",
       "98        Mollusca      Gastropoda     Herbivore     98         7   7  \n",
       "99        Mollusca      Gastropoda     Herbivore     99         7   7  \n",
       "100     Arthropoda       Crustacae  FilterFeeder    100         1   9  \n",
       "101     Arthropoda       Crustacae  FilterFeeder    101         1   9  \n",
       "102     Arthropoda       Crustacae  FilterFeeder    102         1   9  \n",
       "103     Arthropoda       Crustacae  FilterFeeder    103         1   9  \n",
       "104     Arthropoda       Crustacae  FilterFeeder    104         1   9  \n",
       "105       Mollusca      Gastropoda     Herbivore    105         7   6  \n",
       "\n",
       "[106 rows x 17 columns]"
      ]
     },
     "execution_count": 289,
     "metadata": {},
     "output_type": "execute_result"
    }
   ],
   "source": [
    "meta_data_df.join(joint_clust)"
   ]
  },
  {
   "cell_type": "code",
   "execution_count": 291,
   "metadata": {},
   "outputs": [],
   "source": [
    "X = models_sc[opt_class_spec].tau"
   ]
  },
  {
   "cell_type": "code",
   "execution_count": 355,
   "metadata": {},
   "outputs": [],
   "source": [
    "for i in range(3,21):\n",
    "    np.savetxt('../../828-O/assignment/assign3/vbem_models/' + 'file_' + str(i)+'.csv',\n",
    "               models_sc[i].tau, delimiter=',')"
   ]
  },
  {
   "cell_type": "code",
   "execution_count": 295,
   "metadata": {},
   "outputs": [],
   "source": [
    "from sklearn import preprocessing"
   ]
  },
  {
   "cell_type": "raw",
   "metadata": {},
   "source": [
    ">>> le = preprocessing.LabelEncoder()\n",
    ">>> le.fit([\"paris\", \"paris\", \"tokyo\", \"amsterdam\"])\n",
    "LabelEncoder()\n",
    ">>> list(le.classes_)\n",
    "['amsterdam', 'paris', 'tokyo']\n",
    ">>> le.transform([\"tokyo\", \"tokyo\", \"paris\"])\n",
    "array([2, 2, 1])\n",
    ">>> list(le.inverse_transform([2, 2, 1]))\n",
    "['tokyo', 'tokyo', 'paris']"
   ]
  },
  {
   "cell_type": "code",
   "execution_count": 296,
   "metadata": {},
   "outputs": [],
   "source": [
    "le = preprocessing.LabelEncoder()"
   ]
  },
  {
   "cell_type": "code",
   "execution_count": 343,
   "metadata": {},
   "outputs": [
    {
     "data": {
      "text/plain": [
       "LabelEncoder()"
      ]
     },
     "execution_count": 343,
     "metadata": {},
     "output_type": "execute_result"
    }
   ],
   "source": [
    "le.fit(meta_data_df.trophic.fillna('Unc').values)"
   ]
  },
  {
   "cell_type": "code",
   "execution_count": 344,
   "metadata": {},
   "outputs": [],
   "source": [
    "target = le.transform(meta_data_df.trophic.fillna('Unc').values)\n",
    "#target = meta_data_df.BodyMass.values"
   ]
  },
  {
   "cell_type": "code",
   "execution_count": 345,
   "metadata": {},
   "outputs": [],
   "source": [
    "from sklearn.linear_model import LinearRegression\n",
    "from sklearn.metrics import mean_squared_error\n",
    "from sklearn.model_selection import train_test_split"
   ]
  },
  {
   "cell_type": "code",
   "execution_count": 346,
   "metadata": {},
   "outputs": [],
   "source": [
    "reg = LinearRegression().fit(X, target)"
   ]
  },
  {
   "cell_type": "code",
   "execution_count": 347,
   "metadata": {},
   "outputs": [],
   "source": [
    "#mean_squared_error(reg.predict(X),target)"
   ]
  },
  {
   "cell_type": "code",
   "execution_count": 348,
   "metadata": {},
   "outputs": [],
   "source": [
    "X_train, X_test, y_train, y_test = train_test_split(X, target, test_size=0.4, random_state=0)"
   ]
  },
  {
   "cell_type": "code",
   "execution_count": 349,
   "metadata": {},
   "outputs": [],
   "source": [
    "clf = LinearRegression().fit(X_train, y_train)"
   ]
  },
  {
   "cell_type": "code",
   "execution_count": 350,
   "metadata": {},
   "outputs": [
    {
     "data": {
      "text/plain": [
       "0.7760287144145027"
      ]
     },
     "execution_count": 350,
     "metadata": {},
     "output_type": "execute_result"
    }
   ],
   "source": [
    "clf.score(X_test, y_test)      "
   ]
  },
  {
   "cell_type": "code",
   "execution_count": 351,
   "metadata": {},
   "outputs": [],
   "source": [
    " from sklearn.model_selection import cross_val_score"
   ]
  },
  {
   "cell_type": "code",
   "execution_count": 352,
   "metadata": {},
   "outputs": [],
   "source": [
    "scores = cross_val_score(LinearRegression(), X,target, cv=5)"
   ]
  },
  {
   "cell_type": "code",
   "execution_count": 353,
   "metadata": {},
   "outputs": [
    {
     "data": {
      "text/plain": [
       "array([-1.60051100e+21,  9.17423940e-01,  3.51917486e-01,  8.29930651e-01,\n",
       "       -2.92769074e+04])"
      ]
     },
     "execution_count": 353,
     "metadata": {},
     "output_type": "execute_result"
    }
   ],
   "source": [
    "scores"
   ]
  },
  {
   "cell_type": "code",
   "execution_count": null,
   "metadata": {},
   "outputs": [],
   "source": []
  }
 ],
 "metadata": {
  "kernelspec": {
   "display_name": "Python 3",
   "language": "python",
   "name": "python3"
  },
  "language_info": {
   "codemirror_mode": {
    "name": "ipython",
    "version": 3
   },
   "file_extension": ".py",
   "mimetype": "text/x-python",
   "name": "python",
   "nbconvert_exporter": "python",
   "pygments_lexer": "ipython3",
   "version": "3.6.8"
  }
 },
 "nbformat": 4,
 "nbformat_minor": 2
}
