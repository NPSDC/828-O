{
 "cells": [
  {
   "cell_type": "code",
   "execution_count": 2,
   "metadata": {},
   "outputs": [],
   "source": [
    "# Importing the necessary libraries.\n",
    "import pandas as pd\n",
    "import numpy as np\n",
    "import gzip\n",
    "import networkx as nx\n",
    "\n",
    "import matplotlib.pyplot as plt\n",
    "import seaborn as sns\n",
    "%matplotlib inline"
   ]
  },
  {
   "cell_type": "code",
   "execution_count": 18,
   "metadata": {},
   "outputs": [],
   "source": [
    "ti_network_file = '/home/noor/Insync/npsingh@umd.edu/Google Drive/fall_2019/828-O/assignment/assign3/chilean_TI.txt'"
   ]
  },
  {
   "cell_type": "code",
   "execution_count": 19,
   "metadata": {},
   "outputs": [],
   "source": [
    "df = pd.read_csv(ti_network_file,sep = '\\t')"
   ]
  },
  {
   "cell_type": "code",
   "execution_count": 20,
   "metadata": {},
   "outputs": [
    {
     "name": "stdout",
     "output_type": "stream",
     "text": [
      "     Unnamed: 0                 Unnamed: 1  1  2  3  4  5  6  7  8  ...  101  \\\n",
      "0             1          acanthina monodon  0  0  0  0  0  0  0  0  ...    0   \n",
      "1             2         acanthocyclus gayi  0  1  1  0  0  0  0  0  ...    0   \n",
      "2             3     acanthocyclus hassleri  0  1  1  0  0  0  0  0  ...    0   \n",
      "3             4     acanthopleura echinata  0  0  0  0  0  0  0  0  ...    0   \n",
      "4             5     chaetopleura peruviana  0  0  0  0  0  0  0  0  ...    0   \n",
      "..          ...                        ... .. .. .. .. .. .. .. ..  ...  ...   \n",
      "101         106    petrolisthes spinifrons  0  0  0  0  0  0  0  0  ...    1   \n",
      "102         107     petrolisthes angulosus  0  0  0  0  0  0  0  0  ...    1   \n",
      "103         108  petrolisthes tuberculatus  0  0  0  0  0  0  0  0  ...    1   \n",
      "104         109  petrolisthes tuberculosus  0  0  0  0  0  0  0  0  ...    1   \n",
      "105         110     trimusculus peruvianus  0  0  0  0  0  0  0  0  ...    0   \n",
      "\n",
      "     102  103  104  105  106  107  108  109  110  \n",
      "0      0    0    0    0    0    0    0    0    0  \n",
      "1      0    0    0    0    0    0    0    0    0  \n",
      "2      0    0    0    0    0    0    0    0    0  \n",
      "3      0    0    0    0    0    0    0    0    0  \n",
      "4      0    0    0    0    0    0    0    0    0  \n",
      "..   ...  ...  ...  ...  ...  ...  ...  ...  ...  \n",
      "101    0    0    0    0    0    0    0    0    0  \n",
      "102    0    0    0    0    0    0    0    0    0  \n",
      "103    0    0    0    0    0    0    0    0    0  \n",
      "104    0    0    0    0    0    0    0    0    0  \n",
      "105    0    0    0    0    0    0    0    0    0  \n",
      "\n",
      "[106 rows x 108 columns]\n",
      "     Unnamed: 0                 Unnamed: 1\n",
      "0             1          acanthina monodon\n",
      "1             2         acanthocyclus gayi\n",
      "2             3     acanthocyclus hassleri\n",
      "3             4     acanthopleura echinata\n",
      "4             5     chaetopleura peruviana\n",
      "..          ...                        ...\n",
      "101         106    petrolisthes spinifrons\n",
      "102         107     petrolisthes angulosus\n",
      "103         108  petrolisthes tuberculatus\n",
      "104         109  petrolisthes tuberculosus\n",
      "105         110     trimusculus peruvianus\n",
      "\n",
      "[106 rows x 2 columns]\n"
     ]
    }
   ],
   "source": [
    "metadata_nodes = df[df.columns[:2].values]\n",
    "print(df)\n",
    "print(metadata_nodes)"
   ]
  },
  {
   "cell_type": "code",
   "execution_count": 22,
   "metadata": {},
   "outputs": [
    {
     "name": "stdout",
     "output_type": "stream",
     "text": [
      "     node_id                    sp_name\n",
      "0          1          acanthina monodon\n",
      "1          2         acanthocyclus gayi\n",
      "2          3     acanthocyclus hassleri\n",
      "3          4     acanthopleura echinata\n",
      "4          5     chaetopleura peruviana\n",
      "..       ...                        ...\n",
      "101      106    petrolisthes spinifrons\n",
      "102      107     petrolisthes angulosus\n",
      "103      108  petrolisthes tuberculatus\n",
      "104      109  petrolisthes tuberculosus\n",
      "105      110     trimusculus peruvianus\n",
      "\n",
      "[106 rows x 2 columns]\n"
     ]
    }
   ],
   "source": [
    "metadata_nodes = df[df.columns[:2].values]\n",
    "metadata_nodes.columns = ['node_id', 'sp_name']\n",
    "print(metadata_nodes)"
   ]
  },
  {
   "cell_type": "code",
   "execution_count": 23,
   "metadata": {},
   "outputs": [],
   "source": [
    "adj_df = df.loc[:,df.columns.isin(df.columns[2:])]"
   ]
  },
  {
   "cell_type": "code",
   "execution_count": 24,
   "metadata": {},
   "outputs": [],
   "source": [
    "adj_mat = adj_df.values"
   ]
  },
  {
   "cell_type": "code",
   "execution_count": 25,
   "metadata": {},
   "outputs": [],
   "source": [
    "G = nx.from_numpy_matrix(adj_mat)"
   ]
  },
  {
   "cell_type": "code",
   "execution_count": 26,
   "metadata": {},
   "outputs": [
    {
     "name": "stdout",
     "output_type": "stream",
     "text": [
      "Name: \n",
      "Type: Graph\n",
      "Number of nodes: 106\n",
      "Number of edges: 1361\n",
      "Average degree:  25.6792\n"
     ]
    }
   ],
   "source": [
    "print(nx.info(G))"
   ]
  },
  {
   "cell_type": "code",
   "execution_count": 27,
   "metadata": {},
   "outputs": [
    {
     "data": {
      "text/plain": [
       "<matplotlib.axes._subplots.AxesSubplot at 0x7ffa83013470>"
      ]
     },
     "execution_count": 27,
     "metadata": {},
     "output_type": "execute_result"
    },
    {
     "data": {
      "image/png": "[encoded data removed]",
      "text/plain": [
       "<Figure size 432x288 with 2 Axes>"
      ]
     },
     "metadata": {
      "needs_background": "light"
     },
     "output_type": "display_data"
    }
   ],
   "source": [
    "sns.heatmap(adj_mat)"
   ]
  },
  {
   "cell_type": "code",
   "execution_count": 194,
   "metadata": {},
   "outputs": [],
   "source": [
    "from sklearn.cluster import SpectralClustering"
   ]
  },
  {
   "cell_type": "code",
   "execution_count": 163,
   "metadata": {},
   "outputs": [],
   "source": [
    "sc = SpectralClustering(2, affinity='precomputed', n_init=100, assign_labels='discretize')"
   ]
  },
  {
   "cell_type": "code",
   "execution_count": null,
   "metadata": {},
   "outputs": [],
   "source": [
    "sc.fi"
   ]
  },
  {
   "cell_type": "code",
   "execution_count": 28,
   "metadata": {},
   "outputs": [
    {
     "name": "stdout",
     "output_type": "stream",
     "text": [
      "6 106\n"
     ]
    }
   ],
   "source": [
    "num_classes, num_nodes = 6, G.number_of_nodes()\n",
    "print(num_classes, num_nodes)\n",
    "theta = np.full((num_classes,num_classes), 1. / num_classes)\n",
    "alpha = np.full(num_classes, 1. / num_classes)\n",
    "tau = np.full((num_nodes, num_classes), 1. / num_classes)"
   ]
  },
  {
   "cell_type": "code",
   "execution_count": 38,
   "metadata": {},
   "outputs": [
    {
     "name": "stdout",
     "output_type": "stream",
     "text": [
      "[-1.79175947 -1.79175947 -1.79175947 -1.79175947 -1.79175947 -1.79175947]\n"
     ]
    }
   ],
   "source": [
    "print(np.log(theta[:,0]))"
   ]
  },
  {
   "cell_type": "code",
   "execution_count": 193,
   "metadata": {},
   "outputs": [
    {
     "name": "stdout",
     "output_type": "stream",
     "text": [
      "diff...-2298.9637477407 elapsed time...6.5016138553619385\n",
      "diff...0.0 elapsed time...6.8583457469940186\n",
      "diff...0.0 elapsed time...6.8287365436553955\n"
     ]
    },
    {
     "ename": "KeyboardInterrupt",
     "evalue": "",
     "output_type": "error",
     "traceback": [
      "\u001b[0;31m---------------------------------------------------------------------------\u001b[0m",
      "\u001b[0;31mKeyboardInterrupt\u001b[0m                         Traceback (most recent call last)",
      "\u001b[0;32m<ipython-input-193-a453970d14ef>\u001b[0m in \u001b[0;36m<module>\u001b[0;34m\u001b[0m\n\u001b[1;32m     52\u001b[0m                         L += (0.5) * (\n\u001b[1;32m     53\u001b[0m                             \u001b[0mtau\u001b[0m\u001b[0;34m[\u001b[0m\u001b[0mi\u001b[0m\u001b[0;34m,\u001b[0m\u001b[0mq\u001b[0m\u001b[0;34m]\u001b[0m \u001b[0;34m*\u001b[0m \u001b[0mtau\u001b[0m\u001b[0;34m[\u001b[0m\u001b[0mj\u001b[0m\u001b[0;34m,\u001b[0m\u001b[0mr\u001b[0m\u001b[0;34m]\u001b[0m \u001b[0;34m*\u001b[0m\u001b[0;34m\u001b[0m\u001b[0;34m\u001b[0m\u001b[0m\n\u001b[0;32m---> 54\u001b[0;31m                             (adj_mat[i,j] * np.log(theta[q,r]) +\n\u001b[0m\u001b[1;32m     55\u001b[0m                             (1 - adj_mat[i,j]) * np.log(1 - theta[q,r]))\n\u001b[1;32m     56\u001b[0m                         )\n",
      "\u001b[0;31mKeyboardInterrupt\u001b[0m: "
     ]
    }
   ],
   "source": [
    "# E step\n",
    "from tqdm import tqdm_notebook as tqdm\n",
    "import time\n",
    "L_old = 0\n",
    "L_vec = []\n",
    "for step in range(10):\n",
    "    start = time.time()\n",
    "    # print('step ',step)\n",
    "    tau_new_log = np.zeros((num_nodes, num_classes))\n",
    "    for i in range(num_nodes):\n",
    "        for q in range(num_classes):\n",
    "            tau_new_log[i,q] = 0\n",
    "            for j in range(num_nodes): \n",
    "                if(i != j):\n",
    "                    b_mat = (\n",
    "                        adj_mat[i,j] * np.log(theta[q,]) +\n",
    "                        (1 - adj_mat[i,j]) * (np.log(1 - theta[q,])) +\n",
    "                        adj_mat[j,i] * np.log(theta[:,q]) +\n",
    "                        (1 - adj_mat[i,j]) * (np.log(1 - theta[:,q]))\n",
    "                    )\n",
    "                    #print(b_mat.shape, tau[j,].shape)\n",
    "\n",
    "                    tau_new_log[i,q] += np.dot(tau[j,],b_mat)\n",
    "            tau_new_log[i,q] += np.log(alpha[q])\n",
    "    tau_new = np.exp(tau_new_log)\n",
    "    tau = tau_new.copy()\n",
    "    tau = tau / tau.sum(axis=1, keepdims=1)\n",
    "\n",
    "    # M step\n",
    "    # Calculate alpha\n",
    "    alpha = tau.sum(axis = 0) / num_nodes\n",
    "    alpha = alpha / alpha.sum()\n",
    "    # Calculate theta\n",
    "    for q in range(num_classes):\n",
    "        for r in range(num_classes):\n",
    "            num = 0\n",
    "            denom = 0\n",
    "            for i in range(num_nodes):\n",
    "                for j in range(num_nodes):\n",
    "                    if ( i != j):\n",
    "                        num += adj_mat[i,j] * tau[i,q] * tau[j,r]\n",
    "                        denom +=  tau[i,q] * tau[j,r]\n",
    "            theta[q,r] = num / denom\n",
    "        theta[q,] = theta[q,] / theta[q,].sum()\n",
    "\n",
    "    L = np.dot(tau.sum(axis = 0), np.log(alpha)) \n",
    "    for i in range(num_nodes):\n",
    "        for j in range(num_nodes):\n",
    "            if( i != j ):\n",
    "                for q in range(num_classes):\n",
    "                    for r in range(num_classes):\n",
    "                        L += (0.5) * (\n",
    "                            tau[i,q] * tau[j,r] *\n",
    "                            (adj_mat[i,j] * np.log(theta[q,r]) +\n",
    "                            (1 - adj_mat[i,j]) * np.log(1 - theta[q,r]))\n",
    "                        )\n",
    "\n",
    "    end = time.time()\n",
    "    L_vec += [L]\n",
    "    print('diff...{} elapsed time...{}'.format(L - L_old, end - start))\n",
    "    L_old = L"
   ]
  },
  {
   "cell_type": "code",
   "execution_count": 190,
   "metadata": {},
   "outputs": [
    {
     "data": {
      "text/plain": [
       "array([[0.16666667, 0.16666667, 0.16666667, 0.16666667, 0.16666667,\n",
       "        0.16666667],\n",
       "       [0.16666667, 0.16666667, 0.16666667, 0.16666667, 0.16666667,\n",
       "        0.16666667],\n",
       "       [0.16666667, 0.16666667, 0.16666667, 0.16666667, 0.16666667,\n",
       "        0.16666667],\n",
       "       [0.16666667, 0.16666667, 0.16666667, 0.16666667, 0.16666667,\n",
       "        0.16666667],\n",
       "       [0.16666667, 0.16666667, 0.16666667, 0.16666667, 0.16666667,\n",
       "        0.16666667],\n",
       "       [0.16666667, 0.16666667, 0.16666667, 0.16666667, 0.16666667,\n",
       "        0.16666667],\n",
       "       [0.16666667, 0.16666667, 0.16666667, 0.16666667, 0.16666667,\n",
       "        0.16666667],\n",
       "       [0.16666667, 0.16666667, 0.16666667, 0.16666667, 0.16666667,\n",
       "        0.16666667],\n",
       "       [0.16666667, 0.16666667, 0.16666667, 0.16666667, 0.16666667,\n",
       "        0.16666667],\n",
       "       [0.16666667, 0.16666667, 0.16666667, 0.16666667, 0.16666667,\n",
       "        0.16666667],\n",
       "       [0.16666667, 0.16666667, 0.16666667, 0.16666667, 0.16666667,\n",
       "        0.16666667],\n",
       "       [0.16666667, 0.16666667, 0.16666667, 0.16666667, 0.16666667,\n",
       "        0.16666667],\n",
       "       [0.16666667, 0.16666667, 0.16666667, 0.16666667, 0.16666667,\n",
       "        0.16666667],\n",
       "       [0.16666667, 0.16666667, 0.16666667, 0.16666667, 0.16666667,\n",
       "        0.16666667],\n",
       "       [0.16666667, 0.16666667, 0.16666667, 0.16666667, 0.16666667,\n",
       "        0.16666667],\n",
       "       [0.16666667, 0.16666667, 0.16666667, 0.16666667, 0.16666667,\n",
       "        0.16666667],\n",
       "       [0.16666667, 0.16666667, 0.16666667, 0.16666667, 0.16666667,\n",
       "        0.16666667],\n",
       "       [0.16666667, 0.16666667, 0.16666667, 0.16666667, 0.16666667,\n",
       "        0.16666667],\n",
       "       [0.16666667, 0.16666667, 0.16666667, 0.16666667, 0.16666667,\n",
       "        0.16666667],\n",
       "       [0.16666667, 0.16666667, 0.16666667, 0.16666667, 0.16666667,\n",
       "        0.16666667],\n",
       "       [0.16666667, 0.16666667, 0.16666667, 0.16666667, 0.16666667,\n",
       "        0.16666667],\n",
       "       [0.16666667, 0.16666667, 0.16666667, 0.16666667, 0.16666667,\n",
       "        0.16666667],\n",
       "       [0.16666667, 0.16666667, 0.16666667, 0.16666667, 0.16666667,\n",
       "        0.16666667],\n",
       "       [0.16666667, 0.16666667, 0.16666667, 0.16666667, 0.16666667,\n",
       "        0.16666667],\n",
       "       [0.16666667, 0.16666667, 0.16666667, 0.16666667, 0.16666667,\n",
       "        0.16666667],\n",
       "       [0.16666667, 0.16666667, 0.16666667, 0.16666667, 0.16666667,\n",
       "        0.16666667],\n",
       "       [0.16666667, 0.16666667, 0.16666667, 0.16666667, 0.16666667,\n",
       "        0.16666667],\n",
       "       [0.16666667, 0.16666667, 0.16666667, 0.16666667, 0.16666667,\n",
       "        0.16666667],\n",
       "       [0.16666667, 0.16666667, 0.16666667, 0.16666667, 0.16666667,\n",
       "        0.16666667],\n",
       "       [0.16666667, 0.16666667, 0.16666667, 0.16666667, 0.16666667,\n",
       "        0.16666667],\n",
       "       [0.16666667, 0.16666667, 0.16666667, 0.16666667, 0.16666667,\n",
       "        0.16666667],\n",
       "       [0.16666667, 0.16666667, 0.16666667, 0.16666667, 0.16666667,\n",
       "        0.16666667],\n",
       "       [0.16666667, 0.16666667, 0.16666667, 0.16666667, 0.16666667,\n",
       "        0.16666667],\n",
       "       [0.16666667, 0.16666667, 0.16666667, 0.16666667, 0.16666667,\n",
       "        0.16666667],\n",
       "       [0.16666667, 0.16666667, 0.16666667, 0.16666667, 0.16666667,\n",
       "        0.16666667],\n",
       "       [0.16666667, 0.16666667, 0.16666667, 0.16666667, 0.16666667,\n",
       "        0.16666667],\n",
       "       [0.16666667, 0.16666667, 0.16666667, 0.16666667, 0.16666667,\n",
       "        0.16666667],\n",
       "       [0.16666667, 0.16666667, 0.16666667, 0.16666667, 0.16666667,\n",
       "        0.16666667],\n",
       "       [0.16666667, 0.16666667, 0.16666667, 0.16666667, 0.16666667,\n",
       "        0.16666667],\n",
       "       [0.16666667, 0.16666667, 0.16666667, 0.16666667, 0.16666667,\n",
       "        0.16666667],\n",
       "       [0.16666667, 0.16666667, 0.16666667, 0.16666667, 0.16666667,\n",
       "        0.16666667],\n",
       "       [0.16666667, 0.16666667, 0.16666667, 0.16666667, 0.16666667,\n",
       "        0.16666667],\n",
       "       [0.16666667, 0.16666667, 0.16666667, 0.16666667, 0.16666667,\n",
       "        0.16666667],\n",
       "       [0.16666667, 0.16666667, 0.16666667, 0.16666667, 0.16666667,\n",
       "        0.16666667],\n",
       "       [0.16666667, 0.16666667, 0.16666667, 0.16666667, 0.16666667,\n",
       "        0.16666667],\n",
       "       [0.16666667, 0.16666667, 0.16666667, 0.16666667, 0.16666667,\n",
       "        0.16666667],\n",
       "       [0.16666667, 0.16666667, 0.16666667, 0.16666667, 0.16666667,\n",
       "        0.16666667],\n",
       "       [0.16666667, 0.16666667, 0.16666667, 0.16666667, 0.16666667,\n",
       "        0.16666667],\n",
       "       [0.16666667, 0.16666667, 0.16666667, 0.16666667, 0.16666667,\n",
       "        0.16666667],\n",
       "       [0.16666667, 0.16666667, 0.16666667, 0.16666667, 0.16666667,\n",
       "        0.16666667],\n",
       "       [0.16666667, 0.16666667, 0.16666667, 0.16666667, 0.16666667,\n",
       "        0.16666667],\n",
       "       [0.16666667, 0.16666667, 0.16666667, 0.16666667, 0.16666667,\n",
       "        0.16666667],\n",
       "       [0.16666667, 0.16666667, 0.16666667, 0.16666667, 0.16666667,\n",
       "        0.16666667],\n",
       "       [0.16666667, 0.16666667, 0.16666667, 0.16666667, 0.16666667,\n",
       "        0.16666667],\n",
       "       [0.16666667, 0.16666667, 0.16666667, 0.16666667, 0.16666667,\n",
       "        0.16666667],\n",
       "       [0.16666667, 0.16666667, 0.16666667, 0.16666667, 0.16666667,\n",
       "        0.16666667],\n",
       "       [0.16666667, 0.16666667, 0.16666667, 0.16666667, 0.16666667,\n",
       "        0.16666667],\n",
       "       [0.16666667, 0.16666667, 0.16666667, 0.16666667, 0.16666667,\n",
       "        0.16666667],\n",
       "       [0.16666667, 0.16666667, 0.16666667, 0.16666667, 0.16666667,\n",
       "        0.16666667],\n",
       "       [0.16666667, 0.16666667, 0.16666667, 0.16666667, 0.16666667,\n",
       "        0.16666667],\n",
       "       [0.16666667, 0.16666667, 0.16666667, 0.16666667, 0.16666667,\n",
       "        0.16666667],\n",
       "       [0.16666667, 0.16666667, 0.16666667, 0.16666667, 0.16666667,\n",
       "        0.16666667],\n",
       "       [0.16666667, 0.16666667, 0.16666667, 0.16666667, 0.16666667,\n",
       "        0.16666667],\n",
       "       [0.16666667, 0.16666667, 0.16666667, 0.16666667, 0.16666667,\n",
       "        0.16666667],\n",
       "       [0.16666667, 0.16666667, 0.16666667, 0.16666667, 0.16666667,\n",
       "        0.16666667],\n",
       "       [0.16666667, 0.16666667, 0.16666667, 0.16666667, 0.16666667,\n",
       "        0.16666667],\n",
       "       [0.16666667, 0.16666667, 0.16666667, 0.16666667, 0.16666667,\n",
       "        0.16666667],\n",
       "       [0.16666667, 0.16666667, 0.16666667, 0.16666667, 0.16666667,\n",
       "        0.16666667],\n",
       "       [0.16666667, 0.16666667, 0.16666667, 0.16666667, 0.16666667,\n",
       "        0.16666667],\n",
       "       [0.16666667, 0.16666667, 0.16666667, 0.16666667, 0.16666667,\n",
       "        0.16666667],\n",
       "       [0.16666667, 0.16666667, 0.16666667, 0.16666667, 0.16666667,\n",
       "        0.16666667],\n",
       "       [0.16666667, 0.16666667, 0.16666667, 0.16666667, 0.16666667,\n",
       "        0.16666667],\n",
       "       [0.16666667, 0.16666667, 0.16666667, 0.16666667, 0.16666667,\n",
       "        0.16666667],\n",
       "       [0.16666667, 0.16666667, 0.16666667, 0.16666667, 0.16666667,\n",
       "        0.16666667],\n",
       "       [0.16666667, 0.16666667, 0.16666667, 0.16666667, 0.16666667,\n",
       "        0.16666667],\n",
       "       [0.16666667, 0.16666667, 0.16666667, 0.16666667, 0.16666667,\n",
       "        0.16666667],\n",
       "       [0.16666667, 0.16666667, 0.16666667, 0.16666667, 0.16666667,\n",
       "        0.16666667],\n",
       "       [0.16666667, 0.16666667, 0.16666667, 0.16666667, 0.16666667,\n",
       "        0.16666667],\n",
       "       [0.16666667, 0.16666667, 0.16666667, 0.16666667, 0.16666667,\n",
       "        0.16666667],\n",
       "       [0.16666667, 0.16666667, 0.16666667, 0.16666667, 0.16666667,\n",
       "        0.16666667],\n",
       "       [0.16666667, 0.16666667, 0.16666667, 0.16666667, 0.16666667,\n",
       "        0.16666667],\n",
       "       [0.16666667, 0.16666667, 0.16666667, 0.16666667, 0.16666667,\n",
       "        0.16666667],\n",
       "       [0.16666667, 0.16666667, 0.16666667, 0.16666667, 0.16666667,\n",
       "        0.16666667],\n",
       "       [0.16666667, 0.16666667, 0.16666667, 0.16666667, 0.16666667,\n",
       "        0.16666667],\n",
       "       [0.16666667, 0.16666667, 0.16666667, 0.16666667, 0.16666667,\n",
       "        0.16666667],\n",
       "       [0.16666667, 0.16666667, 0.16666667, 0.16666667, 0.16666667,\n",
       "        0.16666667],\n",
       "       [0.16666667, 0.16666667, 0.16666667, 0.16666667, 0.16666667,\n",
       "        0.16666667],\n",
       "       [0.16666667, 0.16666667, 0.16666667, 0.16666667, 0.16666667,\n",
       "        0.16666667],\n",
       "       [0.16666667, 0.16666667, 0.16666667, 0.16666667, 0.16666667,\n",
       "        0.16666667],\n",
       "       [0.16666667, 0.16666667, 0.16666667, 0.16666667, 0.16666667,\n",
       "        0.16666667],\n",
       "       [0.16666667, 0.16666667, 0.16666667, 0.16666667, 0.16666667,\n",
       "        0.16666667],\n",
       "       [0.16666667, 0.16666667, 0.16666667, 0.16666667, 0.16666667,\n",
       "        0.16666667],\n",
       "       [0.16666667, 0.16666667, 0.16666667, 0.16666667, 0.16666667,\n",
       "        0.16666667],\n",
       "       [0.16666667, 0.16666667, 0.16666667, 0.16666667, 0.16666667,\n",
       "        0.16666667],\n",
       "       [0.16666667, 0.16666667, 0.16666667, 0.16666667, 0.16666667,\n",
       "        0.16666667],\n",
       "       [0.16666667, 0.16666667, 0.16666667, 0.16666667, 0.16666667,\n",
       "        0.16666667],\n",
       "       [0.16666667, 0.16666667, 0.16666667, 0.16666667, 0.16666667,\n",
       "        0.16666667],\n",
       "       [0.16666667, 0.16666667, 0.16666667, 0.16666667, 0.16666667,\n",
       "        0.16666667],\n",
       "       [0.16666667, 0.16666667, 0.16666667, 0.16666667, 0.16666667,\n",
       "        0.16666667],\n",
       "       [0.16666667, 0.16666667, 0.16666667, 0.16666667, 0.16666667,\n",
       "        0.16666667],\n",
       "       [0.16666667, 0.16666667, 0.16666667, 0.16666667, 0.16666667,\n",
       "        0.16666667],\n",
       "       [0.16666667, 0.16666667, 0.16666667, 0.16666667, 0.16666667,\n",
       "        0.16666667],\n",
       "       [0.16666667, 0.16666667, 0.16666667, 0.16666667, 0.16666667,\n",
       "        0.16666667],\n",
       "       [0.16666667, 0.16666667, 0.16666667, 0.16666667, 0.16666667,\n",
       "        0.16666667],\n",
       "       [0.16666667, 0.16666667, 0.16666667, 0.16666667, 0.16666667,\n",
       "        0.16666667],\n",
       "       [0.16666667, 0.16666667, 0.16666667, 0.16666667, 0.16666667,\n",
       "        0.16666667]])"
      ]
     },
     "execution_count": 190,
     "metadata": {},
     "output_type": "execute_result"
    }
   ],
   "source": [
    "tau"
   ]
  },
  {
   "cell_type": "code",
   "execution_count": 182,
   "metadata": {},
   "outputs": [
    {
     "data": {
      "text/plain": [
       "array([[nan, nan, nan, nan, nan, nan],\n",
       "       [nan, nan, nan, nan, nan, nan],\n",
       "       [nan, nan, nan, nan, nan, nan],\n",
       "       [nan, nan, nan, nan, nan, nan],\n",
       "       [nan, nan, nan, nan, nan, nan],\n",
       "       [nan, nan, nan, nan, nan, nan],\n",
       "       [nan, nan, nan, nan, nan, nan],\n",
       "       [nan, nan, nan, nan, nan, nan],\n",
       "       [nan, nan, nan, nan, nan, nan],\n",
       "       [nan, nan, nan, nan, nan, nan],\n",
       "       [nan, nan, nan, nan, nan, nan],\n",
       "       [nan, nan, nan, nan, nan, nan],\n",
       "       [nan, nan, nan, nan, nan, nan],\n",
       "       [nan, nan, nan, nan, nan, nan],\n",
       "       [nan, nan, nan, nan, nan, nan],\n",
       "       [nan, nan, nan, nan, nan, nan],\n",
       "       [nan, nan, nan, nan, nan, nan],\n",
       "       [nan, nan, nan, nan, nan, nan],\n",
       "       [nan, nan, nan, nan, nan, nan],\n",
       "       [nan, nan, nan, nan, nan, nan],\n",
       "       [nan, nan, nan, nan, nan, nan],\n",
       "       [nan, nan, nan, nan, nan, nan],\n",
       "       [nan, nan, nan, nan, nan, nan],\n",
       "       [nan, nan, nan, nan, nan, nan],\n",
       "       [nan, nan, nan, nan, nan, nan],\n",
       "       [nan, nan, nan, nan, nan, nan],\n",
       "       [nan, nan, nan, nan, nan, nan],\n",
       "       [nan, nan, nan, nan, nan, nan],\n",
       "       [nan, nan, nan, nan, nan, nan],\n",
       "       [nan, nan, nan, nan, nan, nan],\n",
       "       [nan, nan, nan, nan, nan, nan],\n",
       "       [nan, nan, nan, nan, nan, nan],\n",
       "       [nan, nan, nan, nan, nan, nan],\n",
       "       [nan, nan, nan, nan, nan, nan],\n",
       "       [nan, nan, nan, nan, nan, nan],\n",
       "       [nan, nan, nan, nan, nan, nan],\n",
       "       [nan, nan, nan, nan, nan, nan],\n",
       "       [nan, nan, nan, nan, nan, nan],\n",
       "       [nan, nan, nan, nan, nan, nan],\n",
       "       [nan, nan, nan, nan, nan, nan],\n",
       "       [nan, nan, nan, nan, nan, nan],\n",
       "       [nan, nan, nan, nan, nan, nan],\n",
       "       [nan, nan, nan, nan, nan, nan],\n",
       "       [nan, nan, nan, nan, nan, nan],\n",
       "       [nan, nan, nan, nan, nan, nan],\n",
       "       [nan, nan, nan, nan, nan, nan],\n",
       "       [nan, nan, nan, nan, nan, nan],\n",
       "       [nan, nan, nan, nan, nan, nan],\n",
       "       [nan, nan, nan, nan, nan, nan],\n",
       "       [nan, nan, nan, nan, nan, nan],\n",
       "       [nan, nan, nan, nan, nan, nan],\n",
       "       [nan, nan, nan, nan, nan, nan],\n",
       "       [nan, nan, nan, nan, nan, nan],\n",
       "       [nan, nan, nan, nan, nan, nan],\n",
       "       [nan, nan, nan, nan, nan, nan],\n",
       "       [nan, nan, nan, nan, nan, nan],\n",
       "       [nan, nan, nan, nan, nan, nan],\n",
       "       [nan, nan, nan, nan, nan, nan],\n",
       "       [nan, nan, nan, nan, nan, nan],\n",
       "       [nan, nan, nan, nan, nan, nan],\n",
       "       [nan, nan, nan, nan, nan, nan],\n",
       "       [nan, nan, nan, nan, nan, nan],\n",
       "       [nan, nan, nan, nan, nan, nan],\n",
       "       [nan, nan, nan, nan, nan, nan],\n",
       "       [nan, nan, nan, nan, nan, nan],\n",
       "       [nan, nan, nan, nan, nan, nan],\n",
       "       [nan, nan, nan, nan, nan, nan],\n",
       "       [nan, nan, nan, nan, nan, nan],\n",
       "       [nan, nan, nan, nan, nan, nan],\n",
       "       [nan, nan, nan, nan, nan, nan],\n",
       "       [nan, nan, nan, nan, nan, nan],\n",
       "       [nan, nan, nan, nan, nan, nan],\n",
       "       [nan, nan, nan, nan, nan, nan],\n",
       "       [nan, nan, nan, nan, nan, nan],\n",
       "       [nan, nan, nan, nan, nan, nan],\n",
       "       [nan, nan, nan, nan, nan, nan],\n",
       "       [nan, nan, nan, nan, nan, nan],\n",
       "       [nan, nan, nan, nan, nan, nan],\n",
       "       [nan, nan, nan, nan, nan, nan],\n",
       "       [nan, nan, nan, nan, nan, nan],\n",
       "       [nan, nan, nan, nan, nan, nan],\n",
       "       [nan, nan, nan, nan, nan, nan],\n",
       "       [nan, nan, nan, nan, nan, nan],\n",
       "       [nan, nan, nan, nan, nan, nan],\n",
       "       [nan, nan, nan, nan, nan, nan],\n",
       "       [nan, nan, nan, nan, nan, nan],\n",
       "       [nan, nan, nan, nan, nan, nan],\n",
       "       [nan, nan, nan, nan, nan, nan],\n",
       "       [nan, nan, nan, nan, nan, nan],\n",
       "       [nan, nan, nan, nan, nan, nan],\n",
       "       [nan, nan, nan, nan, nan, nan],\n",
       "       [nan, nan, nan, nan, nan, nan],\n",
       "       [nan, nan, nan, nan, nan, nan],\n",
       "       [nan, nan, nan, nan, nan, nan],\n",
       "       [nan, nan, nan, nan, nan, nan],\n",
       "       [nan, nan, nan, nan, nan, nan],\n",
       "       [nan, nan, nan, nan, nan, nan],\n",
       "       [nan, nan, nan, nan, nan, nan],\n",
       "       [nan, nan, nan, nan, nan, nan],\n",
       "       [nan, nan, nan, nan, nan, nan],\n",
       "       [nan, nan, nan, nan, nan, nan],\n",
       "       [nan, nan, nan, nan, nan, nan],\n",
       "       [nan, nan, nan, nan, nan, nan],\n",
       "       [nan, nan, nan, nan, nan, nan],\n",
       "       [nan, nan, nan, nan, nan, nan],\n",
       "       [nan, nan, nan, nan, nan, nan]])"
      ]
     },
     "execution_count": 182,
     "metadata": {},
     "output_type": "execute_result"
    }
   ],
   "source": [
    "tau"
   ]
  },
  {
   "cell_type": "code",
   "execution_count": null,
   "metadata": {},
   "outputs": [],
   "source": []
  }
 ],
 "metadata": {
  "kernelspec": {
   "display_name": "Python 3",
   "language": "python",
   "name": "python3"
  },
  "language_info": {
   "codemirror_mode": {
    "name": "ipython",
    "version": 3
   },
   "file_extension": ".py",
   "mimetype": "text/x-python",
   "name": "python",
   "nbconvert_exporter": "python",
   "pygments_lexer": "ipython3",
   "version": "3.6.8"
  }
 },
 "nbformat": 4,
 "nbformat_minor": 2
}
