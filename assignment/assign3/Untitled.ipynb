{
 "cells": [
  {
   "cell_type": "markdown",
   "metadata": {},
   "source": [
    "### Running Linear Regression  "
   ]
  },
  {
   "cell_type": "code",
   "execution_count": 1,
   "metadata": {},
   "outputs": [],
   "source": [
    "library(readxl)\n",
    "metaData <- data.frame(read_xls(path = 'doi_10.5061_dryad.b4vg0__v2/chilean_metadata.xls'))\n",
    "\n",
    "tauDf <- read.csv('vbem_models/file_10.csv', stringsAsFactors = F, header = F)\n",
    "colnames(tauDf) <- paste0(\"Class\", c(1:10))"
   ]
  },
  {
   "cell_type": "code",
   "execution_count": 3,
   "metadata": {},
   "outputs": [],
   "source": [
    "runLinearReg <- function(trainInd, testInd, tauDf, metaDf, colName)\n",
    "{\n",
    "      tauDf <- cbind(tauDf, colName = as.integer(as.factor(metaDf[,colName])))\n",
    "      colnames(tauDf)[11] <- colName\n",
    "      fm <- as.formula(paste(colName, '~', \"Class1 + Class2 + Class3 + Class4 + Class5 + Class6 +   Class7 + Class8 + Class9 + Class10\"))\n",
    "\n",
    "      lModel <- lm(formula = fm, tauDf[trainInd, ])\n",
    "      pred <- predict.lm(lModel, data = tauDf[,1:10])\n",
    "\n",
    "      meanSquare <- mean(abs(pred - tauDf[testInd,11])^2, na.rm = T)\n",
    "      return(meanSquare)\n",
    "}"
   ]
  },
  {
   "cell_type": "code",
   "execution_count": 4,
   "metadata": {},
   "outputs": [],
   "source": [
    "trainInd <- sample(106, 106*0.7)\n",
    "testInd <- setdiff(1:106, trainInd)"
   ]
  },
  {
   "cell_type": "code",
   "execution_count": 9,
   "metadata": {},
   "outputs": [
    {
     "name": "stderr",
     "output_type": "stream",
     "text": [
      "Warning message in pred - tauDf[testInd, 11]:\n",
      "“longer object length is not a multiple of shorter object length”\n"
     ]
    },
    {
     "data": {
      "text/html": [
       "12.2461419753086"
      ],
      "text/latex": [
       "12.2461419753086"
      ],
      "text/markdown": [
       "12.2461419753086"
      ],
      "text/plain": [
       "[1] 12.24614"
      ]
     },
     "metadata": {},
     "output_type": "display_data"
    }
   ],
   "source": [
    "runLinearReg(trainInd, testInd, tauDf = tauDf, metaDf = metaData, colName = 'trophic')"
   ]
  },
  {
   "cell_type": "code",
   "execution_count": 7,
   "metadata": {},
   "outputs": [
    {
     "name": "stderr",
     "output_type": "stream",
     "text": [
      "Warning message in pred - tauDf[testInd, 11]:\n",
      "“longer object length is not a multiple of shorter object length”\n"
     ]
    },
    {
     "data": {
      "text/html": [
       "0.384330759330759"
      ],
      "text/latex": [
       "0.384330759330759"
      ],
      "text/markdown": [
       "0.384330759330759"
      ],
      "text/plain": [
       "[1] 0.3843308"
      ]
     },
     "metadata": {},
     "output_type": "display_data"
    }
   ],
   "source": [
    "runLinearReg(trainInd, testInd, tauDf = tauDf, metaDf = metaData, colName = 'ShoreHt_C_Breadth')"
   ]
  },
  {
   "cell_type": "code",
   "execution_count": 8,
   "metadata": {},
   "outputs": [
    {
     "name": "stderr",
     "output_type": "stream",
     "text": [
      "Warning message in pred - tauDf[testInd, 11]:\n",
      "“longer object length is not a multiple of shorter object length”\n"
     ]
    },
    {
     "data": {
      "text/html": [
       "0.908462033462032"
      ],
      "text/latex": [
       "0.908462033462032"
      ],
      "text/markdown": [
       "0.908462033462032"
      ],
      "text/plain": [
       "[1] 0.908462"
      ]
     },
     "metadata": {},
     "output_type": "display_data"
    }
   ],
   "source": [
    "runLinearReg(trainInd, testInd, tauDf = tauDf, metaDf = metaData, colName = 'ShoreHt_C_Ordinal')"
   ]
  },
  {
   "cell_type": "code",
   "execution_count": 10,
   "metadata": {},
   "outputs": [
    {
     "name": "stderr",
     "output_type": "stream",
     "text": [
      "Warning message in pred - tauDf[testInd, 11]:\n",
      "“longer object length is not a multiple of shorter object length”\n"
     ]
    },
    {
     "data": {
      "text/html": [
       "1.31770163020163"
      ],
      "text/latex": [
       "1.31770163020163"
      ],
      "text/markdown": [
       "1.31770163020163"
      ],
      "text/plain": [
       "[1] 1.317702"
      ]
     },
     "metadata": {},
     "output_type": "display_data"
    }
   ],
   "source": [
    "runLinearReg(trainInd, testInd, tauDf = tauDf, metaDf = metaData, colName = 'ShoreHt_R_Ordinal')"
   ]
  },
  {
   "cell_type": "code",
   "execution_count": 12,
   "metadata": {},
   "outputs": [
    {
     "name": "stderr",
     "output_type": "stream",
     "text": [
      "Warning message in pred - tauDf[testInd, 11]:\n",
      "“longer object length is not a multiple of shorter object length”\n"
     ]
    },
    {
     "data": {
      "text/html": [
       "0.32789039039039"
      ],
      "text/latex": [
       "0.32789039039039"
      ],
      "text/markdown": [
       "0.32789039039039"
      ],
      "text/plain": [
       "[1] 0.3278904"
      ]
     },
     "metadata": {},
     "output_type": "display_data"
    }
   ],
   "source": [
    "runLinearReg(trainInd, testInd, tauDf = tauDf, metaDf = metaData, colName = 'ShortHt_R_Breadth')"
   ]
  },
  {
   "cell_type": "code",
   "execution_count": 13,
   "metadata": {},
   "outputs": [
    {
     "name": "stderr",
     "output_type": "stream",
     "text": [
      "Warning message in pred - tauDf[testInd, 11]:\n",
      "“longer object length is not a multiple of shorter object length”\n"
     ]
    },
    {
     "data": {
      "text/html": [
       "11.9149305555556"
      ],
      "text/latex": [
       "11.9149305555556"
      ],
      "text/markdown": [
       "11.9149305555556"
      ],
      "text/plain": [
       "[1] 11.91493"
      ]
     },
     "metadata": {},
     "output_type": "display_data"
    }
   ],
   "source": [
    "runLinearReg(trainInd, testInd, tauDf = tauDf, metaDf = metaData, colName = 'Phyllum')"
   ]
  },
  {
   "cell_type": "code",
   "execution_count": 14,
   "metadata": {},
   "outputs": [
    {
     "name": "stderr",
     "output_type": "stream",
     "text": [
      "Warning message in pred - tauDf[testInd, 11]:\n",
      "“longer object length is not a multiple of shorter object length”\n"
     ]
    },
    {
     "data": {
      "text/html": [
       "19.1606788548753"
      ],
      "text/latex": [
       "19.1606788548753"
      ],
      "text/markdown": [
       "19.1606788548753"
      ],
      "text/plain": [
       "[1] 19.16068"
      ]
     },
     "metadata": {},
     "output_type": "display_data"
    }
   ],
   "source": [
    "runLinearReg(trainInd, testInd, tauDf = tauDf, metaDf = metaData, colName = 'subphyllum')"
   ]
  }
 ],
 "metadata": {
  "kernelspec": {
   "display_name": "R",
   "language": "R",
   "name": "ir"
  },
  "language_info": {
   "codemirror_mode": "r",
   "file_extension": ".r",
   "mimetype": "text/x-r-source",
   "name": "R",
   "pygments_lexer": "r",
   "version": "3.6.1"
  }
 },
 "nbformat": 4,
 "nbformat_minor": 2
}
